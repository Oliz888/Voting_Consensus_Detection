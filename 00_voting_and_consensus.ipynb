{
  "nbformat": 4,
  "nbformat_minor": 0,
  "metadata": {
    "colab": {
      "provenance": [],
      "collapsed_sections": [
        "slX9x8BhHZOU",
        "QeAwU6m4XkEi",
        "bcuXprS9YYqx"
      ],
      "toc_visible": true
    },
    "kernelspec": {
      "name": "python3",
      "display_name": "Python 3"
    },
    "language_info": {
      "name": "python"
    },
    "widgets": {
      "application/vnd.jupyter.widget-state+json": {
        "532dc6658f2345bfa832f8a3dad6915a": {
          "model_module": "@jupyter-widgets/controls",
          "model_name": "HBoxModel",
          "model_module_version": "1.5.0",
          "state": {
            "_dom_classes": [],
            "_model_module": "@jupyter-widgets/controls",
            "_model_module_version": "1.5.0",
            "_model_name": "HBoxModel",
            "_view_count": null,
            "_view_module": "@jupyter-widgets/controls",
            "_view_module_version": "1.5.0",
            "_view_name": "HBoxView",
            "box_style": "",
            "children": [
              "IPY_MODEL_6abfde1e23484ae5a46b33e2307398eb",
              "IPY_MODEL_de54f7289b0f4681b23efaae5d1741b1",
              "IPY_MODEL_e3943a0435ca45358e49738b46c9d8ee"
            ],
            "layout": "IPY_MODEL_e9b0e18c617c4431bf841383784e8e3f"
          }
        },
        "6abfde1e23484ae5a46b33e2307398eb": {
          "model_module": "@jupyter-widgets/controls",
          "model_name": "HTMLModel",
          "model_module_version": "1.5.0",
          "state": {
            "_dom_classes": [],
            "_model_module": "@jupyter-widgets/controls",
            "_model_module_version": "1.5.0",
            "_model_name": "HTMLModel",
            "_view_count": null,
            "_view_module": "@jupyter-widgets/controls",
            "_view_module_version": "1.5.0",
            "_view_name": "HTMLView",
            "description": "",
            "description_tooltip": null,
            "layout": "IPY_MODEL_f8d081a9597c4919bf756542e2a9beb1",
            "placeholder": "​",
            "style": "IPY_MODEL_2d04e7afb7264072b7239c2f90080900",
            "value": "100%"
          }
        },
        "de54f7289b0f4681b23efaae5d1741b1": {
          "model_module": "@jupyter-widgets/controls",
          "model_name": "FloatProgressModel",
          "model_module_version": "1.5.0",
          "state": {
            "_dom_classes": [],
            "_model_module": "@jupyter-widgets/controls",
            "_model_module_version": "1.5.0",
            "_model_name": "FloatProgressModel",
            "_view_count": null,
            "_view_module": "@jupyter-widgets/controls",
            "_view_module_version": "1.5.0",
            "_view_name": "ProgressView",
            "bar_style": "success",
            "description": "",
            "description_tooltip": null,
            "layout": "IPY_MODEL_707a6c05a0eb491988969fa2bba65a48",
            "max": 196,
            "min": 0,
            "orientation": "horizontal",
            "style": "IPY_MODEL_8e2ccc88f3aa4188b6dc8edf83cba9b3",
            "value": 196
          }
        },
        "e3943a0435ca45358e49738b46c9d8ee": {
          "model_module": "@jupyter-widgets/controls",
          "model_name": "HTMLModel",
          "model_module_version": "1.5.0",
          "state": {
            "_dom_classes": [],
            "_model_module": "@jupyter-widgets/controls",
            "_model_module_version": "1.5.0",
            "_model_name": "HTMLModel",
            "_view_count": null,
            "_view_module": "@jupyter-widgets/controls",
            "_view_module_version": "1.5.0",
            "_view_name": "HTMLView",
            "description": "",
            "description_tooltip": null,
            "layout": "IPY_MODEL_2bab99a185a54ec6b0ba070bf78f8e7c",
            "placeholder": "​",
            "style": "IPY_MODEL_c991b5fcbb264f219f21fb8b20feda1e",
            "value": " 196/196 [01:45&lt;00:00,  2.03it/s]"
          }
        },
        "e9b0e18c617c4431bf841383784e8e3f": {
          "model_module": "@jupyter-widgets/base",
          "model_name": "LayoutModel",
          "model_module_version": "1.2.0",
          "state": {
            "_model_module": "@jupyter-widgets/base",
            "_model_module_version": "1.2.0",
            "_model_name": "LayoutModel",
            "_view_count": null,
            "_view_module": "@jupyter-widgets/base",
            "_view_module_version": "1.2.0",
            "_view_name": "LayoutView",
            "align_content": null,
            "align_items": null,
            "align_self": null,
            "border": null,
            "bottom": null,
            "display": null,
            "flex": null,
            "flex_flow": null,
            "grid_area": null,
            "grid_auto_columns": null,
            "grid_auto_flow": null,
            "grid_auto_rows": null,
            "grid_column": null,
            "grid_gap": null,
            "grid_row": null,
            "grid_template_areas": null,
            "grid_template_columns": null,
            "grid_template_rows": null,
            "height": null,
            "justify_content": null,
            "justify_items": null,
            "left": null,
            "margin": null,
            "max_height": null,
            "max_width": null,
            "min_height": null,
            "min_width": null,
            "object_fit": null,
            "object_position": null,
            "order": null,
            "overflow": null,
            "overflow_x": null,
            "overflow_y": null,
            "padding": null,
            "right": null,
            "top": null,
            "visibility": null,
            "width": null
          }
        },
        "f8d081a9597c4919bf756542e2a9beb1": {
          "model_module": "@jupyter-widgets/base",
          "model_name": "LayoutModel",
          "model_module_version": "1.2.0",
          "state": {
            "_model_module": "@jupyter-widgets/base",
            "_model_module_version": "1.2.0",
            "_model_name": "LayoutModel",
            "_view_count": null,
            "_view_module": "@jupyter-widgets/base",
            "_view_module_version": "1.2.0",
            "_view_name": "LayoutView",
            "align_content": null,
            "align_items": null,
            "align_self": null,
            "border": null,
            "bottom": null,
            "display": null,
            "flex": null,
            "flex_flow": null,
            "grid_area": null,
            "grid_auto_columns": null,
            "grid_auto_flow": null,
            "grid_auto_rows": null,
            "grid_column": null,
            "grid_gap": null,
            "grid_row": null,
            "grid_template_areas": null,
            "grid_template_columns": null,
            "grid_template_rows": null,
            "height": null,
            "justify_content": null,
            "justify_items": null,
            "left": null,
            "margin": null,
            "max_height": null,
            "max_width": null,
            "min_height": null,
            "min_width": null,
            "object_fit": null,
            "object_position": null,
            "order": null,
            "overflow": null,
            "overflow_x": null,
            "overflow_y": null,
            "padding": null,
            "right": null,
            "top": null,
            "visibility": null,
            "width": null
          }
        },
        "2d04e7afb7264072b7239c2f90080900": {
          "model_module": "@jupyter-widgets/controls",
          "model_name": "DescriptionStyleModel",
          "model_module_version": "1.5.0",
          "state": {
            "_model_module": "@jupyter-widgets/controls",
            "_model_module_version": "1.5.0",
            "_model_name": "DescriptionStyleModel",
            "_view_count": null,
            "_view_module": "@jupyter-widgets/base",
            "_view_module_version": "1.2.0",
            "_view_name": "StyleView",
            "description_width": ""
          }
        },
        "707a6c05a0eb491988969fa2bba65a48": {
          "model_module": "@jupyter-widgets/base",
          "model_name": "LayoutModel",
          "model_module_version": "1.2.0",
          "state": {
            "_model_module": "@jupyter-widgets/base",
            "_model_module_version": "1.2.0",
            "_model_name": "LayoutModel",
            "_view_count": null,
            "_view_module": "@jupyter-widgets/base",
            "_view_module_version": "1.2.0",
            "_view_name": "LayoutView",
            "align_content": null,
            "align_items": null,
            "align_self": null,
            "border": null,
            "bottom": null,
            "display": null,
            "flex": null,
            "flex_flow": null,
            "grid_area": null,
            "grid_auto_columns": null,
            "grid_auto_flow": null,
            "grid_auto_rows": null,
            "grid_column": null,
            "grid_gap": null,
            "grid_row": null,
            "grid_template_areas": null,
            "grid_template_columns": null,
            "grid_template_rows": null,
            "height": null,
            "justify_content": null,
            "justify_items": null,
            "left": null,
            "margin": null,
            "max_height": null,
            "max_width": null,
            "min_height": null,
            "min_width": null,
            "object_fit": null,
            "object_position": null,
            "order": null,
            "overflow": null,
            "overflow_x": null,
            "overflow_y": null,
            "padding": null,
            "right": null,
            "top": null,
            "visibility": null,
            "width": null
          }
        },
        "8e2ccc88f3aa4188b6dc8edf83cba9b3": {
          "model_module": "@jupyter-widgets/controls",
          "model_name": "ProgressStyleModel",
          "model_module_version": "1.5.0",
          "state": {
            "_model_module": "@jupyter-widgets/controls",
            "_model_module_version": "1.5.0",
            "_model_name": "ProgressStyleModel",
            "_view_count": null,
            "_view_module": "@jupyter-widgets/base",
            "_view_module_version": "1.2.0",
            "_view_name": "StyleView",
            "bar_color": null,
            "description_width": ""
          }
        },
        "2bab99a185a54ec6b0ba070bf78f8e7c": {
          "model_module": "@jupyter-widgets/base",
          "model_name": "LayoutModel",
          "model_module_version": "1.2.0",
          "state": {
            "_model_module": "@jupyter-widgets/base",
            "_model_module_version": "1.2.0",
            "_model_name": "LayoutModel",
            "_view_count": null,
            "_view_module": "@jupyter-widgets/base",
            "_view_module_version": "1.2.0",
            "_view_name": "LayoutView",
            "align_content": null,
            "align_items": null,
            "align_self": null,
            "border": null,
            "bottom": null,
            "display": null,
            "flex": null,
            "flex_flow": null,
            "grid_area": null,
            "grid_auto_columns": null,
            "grid_auto_flow": null,
            "grid_auto_rows": null,
            "grid_column": null,
            "grid_gap": null,
            "grid_row": null,
            "grid_template_areas": null,
            "grid_template_columns": null,
            "grid_template_rows": null,
            "height": null,
            "justify_content": null,
            "justify_items": null,
            "left": null,
            "margin": null,
            "max_height": null,
            "max_width": null,
            "min_height": null,
            "min_width": null,
            "object_fit": null,
            "object_position": null,
            "order": null,
            "overflow": null,
            "overflow_x": null,
            "overflow_y": null,
            "padding": null,
            "right": null,
            "top": null,
            "visibility": null,
            "width": null
          }
        },
        "c991b5fcbb264f219f21fb8b20feda1e": {
          "model_module": "@jupyter-widgets/controls",
          "model_name": "DescriptionStyleModel",
          "model_module_version": "1.5.0",
          "state": {
            "_model_module": "@jupyter-widgets/controls",
            "_model_module_version": "1.5.0",
            "_model_name": "DescriptionStyleModel",
            "_view_count": null,
            "_view_module": "@jupyter-widgets/base",
            "_view_module_version": "1.2.0",
            "_view_name": "StyleView",
            "description_width": ""
          }
        }
      }
    }
  },
  "cells": [
    {
      "cell_type": "code",
      "source": [
        "### Setting up Google Colab (optional) ###\n",
        "# Installing necessary packages\n",
        "!pip install python-igraph\n",
        "!pip install leidenalg\n",
        "!pip install umap-learn\n",
        "!pip install umap-learn -i https://mirrors.ustc.edu.cn/pypi/web/simple\n",
        "!pip install googletrans==4.0.0-rc1"
      ],
      "metadata": {
        "colab": {
          "base_uri": "https://localhost:8080/"
        },
        "id": "z3Nh9JcLSyhM",
        "outputId": "f93d1556-5ad2-4d93-8b0e-5015fc952390"
      },
      "execution_count": 65,
      "outputs": [
        {
          "output_type": "stream",
          "name": "stdout",
          "text": [
            "Looking in indexes: https://pypi.org/simple, https://us-python.pkg.dev/colab-wheels/public/simple/\n",
            "Requirement already satisfied: python-igraph in /usr/local/lib/python3.8/dist-packages (0.10.2)\n",
            "Requirement already satisfied: igraph==0.10.2 in /usr/local/lib/python3.8/dist-packages (from python-igraph) (0.10.2)\n",
            "Requirement already satisfied: texttable>=1.6.2 in /usr/local/lib/python3.8/dist-packages (from igraph==0.10.2->python-igraph) (1.6.7)\n",
            "Looking in indexes: https://pypi.org/simple, https://us-python.pkg.dev/colab-wheels/public/simple/\n",
            "Requirement already satisfied: leidenalg in /usr/local/lib/python3.8/dist-packages (0.9.0)\n",
            "Requirement already satisfied: igraph<0.11,>=0.10.0 in /usr/local/lib/python3.8/dist-packages (from leidenalg) (0.10.2)\n",
            "Requirement already satisfied: texttable>=1.6.2 in /usr/local/lib/python3.8/dist-packages (from igraph<0.11,>=0.10.0->leidenalg) (1.6.7)\n",
            "Looking in indexes: https://pypi.org/simple, https://us-python.pkg.dev/colab-wheels/public/simple/\n",
            "Requirement already satisfied: umap-learn in /usr/local/lib/python3.8/dist-packages (0.5.3)\n",
            "Requirement already satisfied: numba>=0.49 in /usr/local/lib/python3.8/dist-packages (from umap-learn) (0.56.4)\n",
            "Requirement already satisfied: tqdm in /usr/local/lib/python3.8/dist-packages (from umap-learn) (4.64.1)\n",
            "Requirement already satisfied: numpy>=1.17 in /usr/local/lib/python3.8/dist-packages (from umap-learn) (1.21.6)\n",
            "Requirement already satisfied: scikit-learn>=0.22 in /usr/local/lib/python3.8/dist-packages (from umap-learn) (1.0.2)\n",
            "Requirement already satisfied: pynndescent>=0.5 in /usr/local/lib/python3.8/dist-packages (from umap-learn) (0.5.8)\n",
            "Requirement already satisfied: scipy>=1.0 in /usr/local/lib/python3.8/dist-packages (from umap-learn) (1.7.3)\n",
            "Requirement already satisfied: importlib-metadata in /usr/local/lib/python3.8/dist-packages (from numba>=0.49->umap-learn) (4.13.0)\n",
            "Requirement already satisfied: llvmlite<0.40,>=0.39.0dev0 in /usr/local/lib/python3.8/dist-packages (from numba>=0.49->umap-learn) (0.39.1)\n",
            "Requirement already satisfied: setuptools in /usr/local/lib/python3.8/dist-packages (from numba>=0.49->umap-learn) (57.4.0)\n",
            "Requirement already satisfied: joblib>=0.11 in /usr/local/lib/python3.8/dist-packages (from pynndescent>=0.5->umap-learn) (1.2.0)\n",
            "Requirement already satisfied: threadpoolctl>=2.0.0 in /usr/local/lib/python3.8/dist-packages (from scikit-learn>=0.22->umap-learn) (3.1.0)\n",
            "Requirement already satisfied: zipp>=0.5 in /usr/local/lib/python3.8/dist-packages (from importlib-metadata->numba>=0.49->umap-learn) (3.10.0)\n",
            "Looking in indexes: https://mirrors.ustc.edu.cn/pypi/web/simple, https://us-python.pkg.dev/colab-wheels/public/simple/\n",
            "Requirement already satisfied: umap-learn in /usr/local/lib/python3.8/dist-packages (0.5.3)\n",
            "Requirement already satisfied: numba>=0.49 in /usr/local/lib/python3.8/dist-packages (from umap-learn) (0.56.4)\n",
            "Requirement already satisfied: numpy>=1.17 in /usr/local/lib/python3.8/dist-packages (from umap-learn) (1.21.6)\n",
            "Requirement already satisfied: scipy>=1.0 in /usr/local/lib/python3.8/dist-packages (from umap-learn) (1.7.3)\n",
            "Requirement already satisfied: pynndescent>=0.5 in /usr/local/lib/python3.8/dist-packages (from umap-learn) (0.5.8)\n",
            "Requirement already satisfied: tqdm in /usr/local/lib/python3.8/dist-packages (from umap-learn) (4.64.1)\n",
            "Requirement already satisfied: scikit-learn>=0.22 in /usr/local/lib/python3.8/dist-packages (from umap-learn) (1.0.2)\n",
            "Requirement already satisfied: setuptools in /usr/local/lib/python3.8/dist-packages (from numba>=0.49->umap-learn) (57.4.0)\n",
            "Requirement already satisfied: importlib-metadata in /usr/local/lib/python3.8/dist-packages (from numba>=0.49->umap-learn) (4.13.0)\n",
            "Requirement already satisfied: llvmlite<0.40,>=0.39.0dev0 in /usr/local/lib/python3.8/dist-packages (from numba>=0.49->umap-learn) (0.39.1)\n",
            "Requirement already satisfied: joblib>=0.11 in /usr/local/lib/python3.8/dist-packages (from pynndescent>=0.5->umap-learn) (1.2.0)\n",
            "Requirement already satisfied: threadpoolctl>=2.0.0 in /usr/local/lib/python3.8/dist-packages (from scikit-learn>=0.22->umap-learn) (3.1.0)\n",
            "Requirement already satisfied: zipp>=0.5 in /usr/local/lib/python3.8/dist-packages (from importlib-metadata->numba>=0.49->umap-learn) (3.10.0)\n",
            "Looking in indexes: https://pypi.org/simple, https://us-python.pkg.dev/colab-wheels/public/simple/\n",
            "Requirement already satisfied: googletrans==4.0.0-rc1 in /usr/local/lib/python3.8/dist-packages (4.0.0rc1)\n",
            "Requirement already satisfied: httpx==0.13.3 in /usr/local/lib/python3.8/dist-packages (from googletrans==4.0.0-rc1) (0.13.3)\n",
            "Requirement already satisfied: sniffio in /usr/local/lib/python3.8/dist-packages (from httpx==0.13.3->googletrans==4.0.0-rc1) (1.3.0)\n",
            "Requirement already satisfied: certifi in /usr/local/lib/python3.8/dist-packages (from httpx==0.13.3->googletrans==4.0.0-rc1) (2022.9.24)\n",
            "Requirement already satisfied: chardet==3.* in /usr/local/lib/python3.8/dist-packages (from httpx==0.13.3->googletrans==4.0.0-rc1) (3.0.4)\n",
            "Requirement already satisfied: rfc3986<2,>=1.3 in /usr/local/lib/python3.8/dist-packages (from httpx==0.13.3->googletrans==4.0.0-rc1) (1.5.0)\n",
            "Requirement already satisfied: httpcore==0.9.* in /usr/local/lib/python3.8/dist-packages (from httpx==0.13.3->googletrans==4.0.0-rc1) (0.9.1)\n",
            "Requirement already satisfied: idna==2.* in /usr/local/lib/python3.8/dist-packages (from httpx==0.13.3->googletrans==4.0.0-rc1) (2.10)\n",
            "Requirement already satisfied: hstspreload in /usr/local/lib/python3.8/dist-packages (from httpx==0.13.3->googletrans==4.0.0-rc1) (2022.12.1)\n",
            "Requirement already satisfied: h2==3.* in /usr/local/lib/python3.8/dist-packages (from httpcore==0.9.*->httpx==0.13.3->googletrans==4.0.0-rc1) (3.2.0)\n",
            "Requirement already satisfied: h11<0.10,>=0.8 in /usr/local/lib/python3.8/dist-packages (from httpcore==0.9.*->httpx==0.13.3->googletrans==4.0.0-rc1) (0.9.0)\n",
            "Requirement already satisfied: hyperframe<6,>=5.2.0 in /usr/local/lib/python3.8/dist-packages (from h2==3.*->httpcore==0.9.*->httpx==0.13.3->googletrans==4.0.0-rc1) (5.2.0)\n",
            "Requirement already satisfied: hpack<4,>=3.0 in /usr/local/lib/python3.8/dist-packages (from h2==3.*->httpcore==0.9.*->httpx==0.13.3->googletrans==4.0.0-rc1) (3.0.0)\n"
          ]
        }
      ]
    },
    {
      "cell_type": "code",
      "source": [
        "# # Getting access to Google Drive files (participants-votes.csv etc)\n",
        "# from google.colab import drive\n",
        "# drive.mount(\"/content/drive/\")"
      ],
      "metadata": {
        "colab": {
          "base_uri": "https://localhost:8080/"
        },
        "id": "GmEbCjyo6Zgb",
        "outputId": "3c7d0f69-8451-4571-f777-039b3e4318b6"
      },
      "execution_count": 66,
      "outputs": [
        {
          "output_type": "stream",
          "name": "stdout",
          "text": [
            "Drive already mounted at /content/drive/; to attempt to forcibly remount, call drive.mount(\"/content/drive/\", force_remount=True).\n"
          ]
        }
      ]
    },
    {
      "cell_type": "code",
      "source": [
        "# %cd 'drive/Shareddrives/DS final project w  oli/vtaiwan/vtaiwan_csv' "
      ],
      "metadata": {
        "colab": {
          "base_uri": "https://localhost:8080/"
        },
        "id": "b0loecDk8Q4h",
        "outputId": "ec1c8df0-e2ca-46ad-bf79-4c639ff6a443"
      },
      "execution_count": 67,
      "outputs": [
        {
          "output_type": "stream",
          "name": "stdout",
          "text": [
            "[Errno 2] No such file or directory: 'drive/Shareddrives/DS final project w  oli/vtaiwan/vtaiwan_csv'\n",
            "/content/drive/Shareddrives/DS final project w  oli/vtaiwan/vtaiwan_csv\n"
          ]
        }
      ]
    },
    {
      "cell_type": "markdown",
      "source": [
        "# 0. load packages and read data"
      ],
      "metadata": {
        "id": "7QnwpB3CrEvT"
      }
    },
    {
      "cell_type": "code",
      "execution_count": 68,
      "metadata": {
        "id": "kUkOMe33HdKC"
      },
      "outputs": [],
      "source": [
        "import math\n",
        "import pandas as pd\n",
        "import numpy as np\n",
        "import seaborn as sns\n",
        "import matplotlib.pyplot as plt\n",
        "import altair as alt\n",
        "from tqdm.notebook import tqdm\n",
        "from textwrap import wrap\n",
        "from sklearn.neighbors import kneighbors_graph\n",
        "\n",
        "from sklearn.decomposition import PCA\n",
        "from sklearn.cluster import KMeans\n",
        "from sklearn.metrics.pairwise import euclidean_distances\n",
        "\n",
        "import umap.umap_ as umap\n",
        "# import umap\n",
        "\n",
        "import googletrans\n",
        "from pprint import pprint"
      ]
    },
    {
      "cell_type": "markdown",
      "source": [
        "# 1. preprocess data"
      ],
      "metadata": {
        "id": "O0zociNSrNoW"
      }
    },
    {
      "cell_type": "code",
      "source": [
        "#read in data\n",
        "df_comments= pd.read_csv(\"./dataset/comments.csv\")\n",
        "df = pd.read_csv(\"./dataset/participants-votes.csv\")"
      ],
      "metadata": {
        "id": "KjNCPDCjHdrV"
      },
      "execution_count": 69,
      "outputs": []
    },
    {
      "cell_type": "code",
      "source": [
        "print(df_comments.shape, df.shape)"
      ],
      "metadata": {
        "colab": {
          "base_uri": "https://localhost:8080/"
        },
        "id": "ioOtf1RTGnK9",
        "outputId": "0ac8b72f-37e0-4e7a-a18f-425ea6345dc8"
      },
      "execution_count": 70,
      "outputs": [
        {
          "output_type": "stream",
          "name": "stdout",
          "text": [
            "(197, 8) (1921, 203)\n"
          ]
        }
      ]
    },
    {
      "cell_type": "markdown",
      "source": [
        "## filter particant w/ less than 7 votes\n",
        "Including the partipants vote less than 7 votes, which would be removed from the valid voters list. There are 1921 voters, and 203 vals: including the meta data of their votes, and their opinion on each comments."
      ],
      "metadata": {
        "id": "vvwFwWrFwJyO"
      }
    },
    {
      "cell_type": "code",
      "source": [
        "## obtain the number of issues for votes \n",
        "metadata_fields = ['group-id', 'n-comments', 'n-votes', \n",
        "                   'n-agree', 'n-disagree']\n",
        "val_fields = [c for c in df.columns.values if c not in metadata_fields]\n"
      ],
      "metadata": {
        "id": "o4IkxxCVq3fM"
      },
      "execution_count": 71,
      "outputs": []
    },
    {
      "cell_type": "code",
      "source": [
        "## for a row, count the number of finite values\n",
        "def count_finite(row):\n",
        "    finite = np.isfinite(row[val_fields]) # boolean array of whether each entry is finite\n",
        "    return sum(finite) # count number of True values in `finite`\n",
        "\n",
        "\n",
        "## REMOVE PARTICIPANTS WITH LESS THAN N VOTES check for each row if the number of finite values >= cutoff\n",
        "def select_rows(df, threshold):\n",
        "    \n",
        "    number_of_votes = df.apply(count_finite, axis=1)\n",
        "    valid = number_of_votes >= threshold\n",
        "    \n",
        "    return df[valid]\n",
        "\n",
        "df = select_rows(df, 7)"
      ],
      "metadata": {
        "id": "fb2JttotrDPi"
      },
      "execution_count": 72,
      "outputs": []
    },
    {
      "cell_type": "code",
      "source": [
        "metadata = df[metadata_fields]\n",
        "vals = df[val_fields]\n",
        "vals = vals.fillna(0)\n",
        "vals = vals.sort_values(\"participant\").reset_index(drop=True)\n",
        "vals.columns "
      ],
      "metadata": {
        "colab": {
          "base_uri": "https://localhost:8080/"
        },
        "id": "tX54a6XWq8-K",
        "outputId": "7a55fc96-9baf-431c-822b-28a3f36feaa4"
      },
      "execution_count": 73,
      "outputs": [
        {
          "output_type": "execute_result",
          "data": {
            "text/plain": [
              "Index(['participant', '0', '1', '2', '3', '4', '5', '6', '7', '8',\n",
              "       ...\n",
              "       '187', '188', '189', '190', '191', '192', '193', '194', '195', '196'],\n",
              "      dtype='object', length=198)"
            ]
          },
          "metadata": {},
          "execution_count": 73
        }
      ]
    },
    {
      "cell_type": "code",
      "source": [
        "print(metadata.shape, vals.shape)"
      ],
      "metadata": {
        "colab": {
          "base_uri": "https://localhost:8080/"
        },
        "id": "NsWWrxKCJRhx",
        "outputId": "3ebe07a0-a5de-4084-b5cf-9af9c9de35ef"
      },
      "execution_count": 74,
      "outputs": [
        {
          "output_type": "stream",
          "name": "stdout",
          "text": [
            "(1269, 5) (1269, 198)\n"
          ]
        }
      ]
    },
    {
      "cell_type": "markdown",
      "source": [
        "Including the comments being moderated out, there are 197 comments and 8 vals including the datetime, index of comments, id of author, and the general stands of this comments (agree/disagree) with the uber issue"
      ],
      "metadata": {
        "id": "LFWQdwP8wAjX"
      }
    },
    {
      "cell_type": "markdown",
      "source": [
        "remove statements (columns) which were moderated out"
      ],
      "metadata": {
        "id": "-UpXXFfe6vRq"
      }
    },
    {
      "cell_type": "code",
      "source": [
        "df_comments[df_comments[\"moderated\"] ==1]['comment-id']"
      ],
      "metadata": {
        "colab": {
          "base_uri": "https://localhost:8080/"
        },
        "id": "rOYjlfPEfUZ2",
        "outputId": "e161692f-53fd-4f16-b0de-ece06d8755f9"
      },
      "execution_count": 75,
      "outputs": [
        {
          "output_type": "execute_result",
          "data": {
            "text/plain": [
              "9      159\n",
              "12     156\n",
              "13     154\n",
              "15     153\n",
              "17     151\n",
              "      ... \n",
              "179     13\n",
              "180     14\n",
              "181     15\n",
              "182     16\n",
              "183     17\n",
              "Name: comment-id, Length: 99, dtype: int64"
            ]
          },
          "metadata": {},
          "execution_count": 75
        }
      ]
    },
    {
      "cell_type": "code",
      "source": [
        "df_comments.columns"
      ],
      "metadata": {
        "colab": {
          "base_uri": "https://localhost:8080/"
        },
        "id": "146W7N2efWkZ",
        "outputId": "622c8ac5-5029-4b34-fe5c-9d8aacede894"
      },
      "execution_count": 76,
      "outputs": [
        {
          "output_type": "execute_result",
          "data": {
            "text/plain": [
              "Index(['timestamp', 'datetime', 'comment-id', 'author-id', 'agrees',\n",
              "       'disagrees', 'moderated', 'comment-body'],\n",
              "      dtype='object')"
            ]
          },
          "metadata": {},
          "execution_count": 76
        }
      ]
    },
    {
      "cell_type": "code",
      "source": [
        "df_comments[\"moderated\"] = df_comments[\"moderated\"].round()\n",
        "statements_all_in = sorted(list(df_comments[df_comments[\"moderated\"] ==1]['comment-id']), key = int)\n",
        "\n",
        "vals_all_in = vals[[str(i) for i in statements_all_in]]\n",
        "vals_all_in.describe()"
      ],
      "metadata": {
        "id": "fH6vRg-oYxvf",
        "colab": {
          "base_uri": "https://localhost:8080/",
          "height": 393
        },
        "outputId": "b01cfd18-8d8f-4bdd-ad90-a2539ebb4521"
      },
      "execution_count": 77,
      "outputs": [
        {
          "output_type": "execute_result",
          "data": {
            "text/plain": [
              "                 0            3            4            5           6  \\\n",
              "count  1269.000000  1269.000000  1269.000000  1269.000000  1269.00000   \n",
              "mean      0.234831     0.311269     0.222222     0.101655     0.14736   \n",
              "std       0.684449     0.668140     0.668897     0.688966     0.70007   \n",
              "min      -1.000000    -1.000000    -1.000000    -1.000000    -1.00000   \n",
              "25%       0.000000     0.000000     0.000000     0.000000     0.00000   \n",
              "50%       0.000000     0.000000     0.000000     0.000000     0.00000   \n",
              "75%       1.000000     1.000000     1.000000     1.000000     1.00000   \n",
              "max       1.000000     1.000000     1.000000     1.000000     1.00000   \n",
              "\n",
              "                 7            8            9           10           12  ...  \\\n",
              "count  1269.000000  1269.000000  1269.000000  1269.000000  1269.000000  ...   \n",
              "mean      0.504334     0.367218     0.313633    -0.117415     0.156816  ...   \n",
              "std       0.546877     0.625986     0.632439     0.676035     0.695747  ...   \n",
              "min      -1.000000    -1.000000    -1.000000    -1.000000    -1.000000  ...   \n",
              "25%       0.000000     0.000000     0.000000    -1.000000     0.000000  ...   \n",
              "50%       1.000000     0.000000     0.000000     0.000000     0.000000  ...   \n",
              "75%       1.000000     1.000000     1.000000     0.000000     1.000000  ...   \n",
              "max       1.000000     1.000000     1.000000     1.000000     1.000000  ...   \n",
              "\n",
              "               161          162          164          165          169  \\\n",
              "count  1269.000000  1269.000000  1269.000000  1269.000000  1269.000000   \n",
              "mean      0.033097     0.013396     0.010244     0.038613     0.038613   \n",
              "std       0.252136     0.207836     0.282042     0.259075     0.256013   \n",
              "min      -1.000000    -1.000000    -1.000000    -1.000000    -1.000000   \n",
              "25%       0.000000     0.000000     0.000000     0.000000     0.000000   \n",
              "50%       0.000000     0.000000     0.000000     0.000000     0.000000   \n",
              "75%       0.000000     0.000000     0.000000     0.000000     0.000000   \n",
              "max       1.000000     1.000000     1.000000     1.000000     1.000000   \n",
              "\n",
              "               170          171          172          173          174  \n",
              "count  1269.000000  1269.000000  1269.000000  1269.000000  1269.000000  \n",
              "mean     -0.011820    -0.013396     0.052797     0.007092     0.007092  \n",
              "std       0.226102     0.276259     0.259614     0.246323     0.233165  \n",
              "min      -1.000000    -1.000000    -1.000000    -1.000000    -1.000000  \n",
              "25%       0.000000     0.000000     0.000000     0.000000     0.000000  \n",
              "50%       0.000000     0.000000     0.000000     0.000000     0.000000  \n",
              "75%       0.000000     0.000000     0.000000     0.000000     0.000000  \n",
              "max       1.000000     1.000000     1.000000     1.000000     1.000000  \n",
              "\n",
              "[8 rows x 99 columns]"
            ],
            "text/html": [
              "\n",
              "  <div id=\"df-5fab0bae-34f1-430d-90be-f3802607fb26\">\n",
              "    <div class=\"colab-df-container\">\n",
              "      <div>\n",
              "<style scoped>\n",
              "    .dataframe tbody tr th:only-of-type {\n",
              "        vertical-align: middle;\n",
              "    }\n",
              "\n",
              "    .dataframe tbody tr th {\n",
              "        vertical-align: top;\n",
              "    }\n",
              "\n",
              "    .dataframe thead th {\n",
              "        text-align: right;\n",
              "    }\n",
              "</style>\n",
              "<table border=\"1\" class=\"dataframe\">\n",
              "  <thead>\n",
              "    <tr style=\"text-align: right;\">\n",
              "      <th></th>\n",
              "      <th>0</th>\n",
              "      <th>3</th>\n",
              "      <th>4</th>\n",
              "      <th>5</th>\n",
              "      <th>6</th>\n",
              "      <th>7</th>\n",
              "      <th>8</th>\n",
              "      <th>9</th>\n",
              "      <th>10</th>\n",
              "      <th>12</th>\n",
              "      <th>...</th>\n",
              "      <th>161</th>\n",
              "      <th>162</th>\n",
              "      <th>164</th>\n",
              "      <th>165</th>\n",
              "      <th>169</th>\n",
              "      <th>170</th>\n",
              "      <th>171</th>\n",
              "      <th>172</th>\n",
              "      <th>173</th>\n",
              "      <th>174</th>\n",
              "    </tr>\n",
              "  </thead>\n",
              "  <tbody>\n",
              "    <tr>\n",
              "      <th>count</th>\n",
              "      <td>1269.000000</td>\n",
              "      <td>1269.000000</td>\n",
              "      <td>1269.000000</td>\n",
              "      <td>1269.000000</td>\n",
              "      <td>1269.00000</td>\n",
              "      <td>1269.000000</td>\n",
              "      <td>1269.000000</td>\n",
              "      <td>1269.000000</td>\n",
              "      <td>1269.000000</td>\n",
              "      <td>1269.000000</td>\n",
              "      <td>...</td>\n",
              "      <td>1269.000000</td>\n",
              "      <td>1269.000000</td>\n",
              "      <td>1269.000000</td>\n",
              "      <td>1269.000000</td>\n",
              "      <td>1269.000000</td>\n",
              "      <td>1269.000000</td>\n",
              "      <td>1269.000000</td>\n",
              "      <td>1269.000000</td>\n",
              "      <td>1269.000000</td>\n",
              "      <td>1269.000000</td>\n",
              "    </tr>\n",
              "    <tr>\n",
              "      <th>mean</th>\n",
              "      <td>0.234831</td>\n",
              "      <td>0.311269</td>\n",
              "      <td>0.222222</td>\n",
              "      <td>0.101655</td>\n",
              "      <td>0.14736</td>\n",
              "      <td>0.504334</td>\n",
              "      <td>0.367218</td>\n",
              "      <td>0.313633</td>\n",
              "      <td>-0.117415</td>\n",
              "      <td>0.156816</td>\n",
              "      <td>...</td>\n",
              "      <td>0.033097</td>\n",
              "      <td>0.013396</td>\n",
              "      <td>0.010244</td>\n",
              "      <td>0.038613</td>\n",
              "      <td>0.038613</td>\n",
              "      <td>-0.011820</td>\n",
              "      <td>-0.013396</td>\n",
              "      <td>0.052797</td>\n",
              "      <td>0.007092</td>\n",
              "      <td>0.007092</td>\n",
              "    </tr>\n",
              "    <tr>\n",
              "      <th>std</th>\n",
              "      <td>0.684449</td>\n",
              "      <td>0.668140</td>\n",
              "      <td>0.668897</td>\n",
              "      <td>0.688966</td>\n",
              "      <td>0.70007</td>\n",
              "      <td>0.546877</td>\n",
              "      <td>0.625986</td>\n",
              "      <td>0.632439</td>\n",
              "      <td>0.676035</td>\n",
              "      <td>0.695747</td>\n",
              "      <td>...</td>\n",
              "      <td>0.252136</td>\n",
              "      <td>0.207836</td>\n",
              "      <td>0.282042</td>\n",
              "      <td>0.259075</td>\n",
              "      <td>0.256013</td>\n",
              "      <td>0.226102</td>\n",
              "      <td>0.276259</td>\n",
              "      <td>0.259614</td>\n",
              "      <td>0.246323</td>\n",
              "      <td>0.233165</td>\n",
              "    </tr>\n",
              "    <tr>\n",
              "      <th>min</th>\n",
              "      <td>-1.000000</td>\n",
              "      <td>-1.000000</td>\n",
              "      <td>-1.000000</td>\n",
              "      <td>-1.000000</td>\n",
              "      <td>-1.00000</td>\n",
              "      <td>-1.000000</td>\n",
              "      <td>-1.000000</td>\n",
              "      <td>-1.000000</td>\n",
              "      <td>-1.000000</td>\n",
              "      <td>-1.000000</td>\n",
              "      <td>...</td>\n",
              "      <td>-1.000000</td>\n",
              "      <td>-1.000000</td>\n",
              "      <td>-1.000000</td>\n",
              "      <td>-1.000000</td>\n",
              "      <td>-1.000000</td>\n",
              "      <td>-1.000000</td>\n",
              "      <td>-1.000000</td>\n",
              "      <td>-1.000000</td>\n",
              "      <td>-1.000000</td>\n",
              "      <td>-1.000000</td>\n",
              "    </tr>\n",
              "    <tr>\n",
              "      <th>25%</th>\n",
              "      <td>0.000000</td>\n",
              "      <td>0.000000</td>\n",
              "      <td>0.000000</td>\n",
              "      <td>0.000000</td>\n",
              "      <td>0.00000</td>\n",
              "      <td>0.000000</td>\n",
              "      <td>0.000000</td>\n",
              "      <td>0.000000</td>\n",
              "      <td>-1.000000</td>\n",
              "      <td>0.000000</td>\n",
              "      <td>...</td>\n",
              "      <td>0.000000</td>\n",
              "      <td>0.000000</td>\n",
              "      <td>0.000000</td>\n",
              "      <td>0.000000</td>\n",
              "      <td>0.000000</td>\n",
              "      <td>0.000000</td>\n",
              "      <td>0.000000</td>\n",
              "      <td>0.000000</td>\n",
              "      <td>0.000000</td>\n",
              "      <td>0.000000</td>\n",
              "    </tr>\n",
              "    <tr>\n",
              "      <th>50%</th>\n",
              "      <td>0.000000</td>\n",
              "      <td>0.000000</td>\n",
              "      <td>0.000000</td>\n",
              "      <td>0.000000</td>\n",
              "      <td>0.00000</td>\n",
              "      <td>1.000000</td>\n",
              "      <td>0.000000</td>\n",
              "      <td>0.000000</td>\n",
              "      <td>0.000000</td>\n",
              "      <td>0.000000</td>\n",
              "      <td>...</td>\n",
              "      <td>0.000000</td>\n",
              "      <td>0.000000</td>\n",
              "      <td>0.000000</td>\n",
              "      <td>0.000000</td>\n",
              "      <td>0.000000</td>\n",
              "      <td>0.000000</td>\n",
              "      <td>0.000000</td>\n",
              "      <td>0.000000</td>\n",
              "      <td>0.000000</td>\n",
              "      <td>0.000000</td>\n",
              "    </tr>\n",
              "    <tr>\n",
              "      <th>75%</th>\n",
              "      <td>1.000000</td>\n",
              "      <td>1.000000</td>\n",
              "      <td>1.000000</td>\n",
              "      <td>1.000000</td>\n",
              "      <td>1.00000</td>\n",
              "      <td>1.000000</td>\n",
              "      <td>1.000000</td>\n",
              "      <td>1.000000</td>\n",
              "      <td>0.000000</td>\n",
              "      <td>1.000000</td>\n",
              "      <td>...</td>\n",
              "      <td>0.000000</td>\n",
              "      <td>0.000000</td>\n",
              "      <td>0.000000</td>\n",
              "      <td>0.000000</td>\n",
              "      <td>0.000000</td>\n",
              "      <td>0.000000</td>\n",
              "      <td>0.000000</td>\n",
              "      <td>0.000000</td>\n",
              "      <td>0.000000</td>\n",
              "      <td>0.000000</td>\n",
              "    </tr>\n",
              "    <tr>\n",
              "      <th>max</th>\n",
              "      <td>1.000000</td>\n",
              "      <td>1.000000</td>\n",
              "      <td>1.000000</td>\n",
              "      <td>1.000000</td>\n",
              "      <td>1.00000</td>\n",
              "      <td>1.000000</td>\n",
              "      <td>1.000000</td>\n",
              "      <td>1.000000</td>\n",
              "      <td>1.000000</td>\n",
              "      <td>1.000000</td>\n",
              "      <td>...</td>\n",
              "      <td>1.000000</td>\n",
              "      <td>1.000000</td>\n",
              "      <td>1.000000</td>\n",
              "      <td>1.000000</td>\n",
              "      <td>1.000000</td>\n",
              "      <td>1.000000</td>\n",
              "      <td>1.000000</td>\n",
              "      <td>1.000000</td>\n",
              "      <td>1.000000</td>\n",
              "      <td>1.000000</td>\n",
              "    </tr>\n",
              "  </tbody>\n",
              "</table>\n",
              "<p>8 rows × 99 columns</p>\n",
              "</div>\n",
              "      <button class=\"colab-df-convert\" onclick=\"convertToInteractive('df-5fab0bae-34f1-430d-90be-f3802607fb26')\"\n",
              "              title=\"Convert this dataframe to an interactive table.\"\n",
              "              style=\"display:none;\">\n",
              "        \n",
              "  <svg xmlns=\"http://www.w3.org/2000/svg\" height=\"24px\"viewBox=\"0 0 24 24\"\n",
              "       width=\"24px\">\n",
              "    <path d=\"M0 0h24v24H0V0z\" fill=\"none\"/>\n",
              "    <path d=\"M18.56 5.44l.94 2.06.94-2.06 2.06-.94-2.06-.94-.94-2.06-.94 2.06-2.06.94zm-11 1L8.5 8.5l.94-2.06 2.06-.94-2.06-.94L8.5 2.5l-.94 2.06-2.06.94zm10 10l.94 2.06.94-2.06 2.06-.94-2.06-.94-.94-2.06-.94 2.06-2.06.94z\"/><path d=\"M17.41 7.96l-1.37-1.37c-.4-.4-.92-.59-1.43-.59-.52 0-1.04.2-1.43.59L10.3 9.45l-7.72 7.72c-.78.78-.78 2.05 0 2.83L4 21.41c.39.39.9.59 1.41.59.51 0 1.02-.2 1.41-.59l7.78-7.78 2.81-2.81c.8-.78.8-2.07 0-2.86zM5.41 20L4 18.59l7.72-7.72 1.47 1.35L5.41 20z\"/>\n",
              "  </svg>\n",
              "      </button>\n",
              "      \n",
              "  <style>\n",
              "    .colab-df-container {\n",
              "      display:flex;\n",
              "      flex-wrap:wrap;\n",
              "      gap: 12px;\n",
              "    }\n",
              "\n",
              "    .colab-df-convert {\n",
              "      background-color: #E8F0FE;\n",
              "      border: none;\n",
              "      border-radius: 50%;\n",
              "      cursor: pointer;\n",
              "      display: none;\n",
              "      fill: #1967D2;\n",
              "      height: 32px;\n",
              "      padding: 0 0 0 0;\n",
              "      width: 32px;\n",
              "    }\n",
              "\n",
              "    .colab-df-convert:hover {\n",
              "      background-color: #E2EBFA;\n",
              "      box-shadow: 0px 1px 2px rgba(60, 64, 67, 0.3), 0px 1px 3px 1px rgba(60, 64, 67, 0.15);\n",
              "      fill: #174EA6;\n",
              "    }\n",
              "\n",
              "    [theme=dark] .colab-df-convert {\n",
              "      background-color: #3B4455;\n",
              "      fill: #D2E3FC;\n",
              "    }\n",
              "\n",
              "    [theme=dark] .colab-df-convert:hover {\n",
              "      background-color: #434B5C;\n",
              "      box-shadow: 0px 1px 3px 1px rgba(0, 0, 0, 0.15);\n",
              "      filter: drop-shadow(0px 1px 2px rgba(0, 0, 0, 0.3));\n",
              "      fill: #FFFFFF;\n",
              "    }\n",
              "  </style>\n",
              "\n",
              "      <script>\n",
              "        const buttonEl =\n",
              "          document.querySelector('#df-5fab0bae-34f1-430d-90be-f3802607fb26 button.colab-df-convert');\n",
              "        buttonEl.style.display =\n",
              "          google.colab.kernel.accessAllowed ? 'block' : 'none';\n",
              "\n",
              "        async function convertToInteractive(key) {\n",
              "          const element = document.querySelector('#df-5fab0bae-34f1-430d-90be-f3802607fb26');\n",
              "          const dataTable =\n",
              "            await google.colab.kernel.invokeFunction('convertToInteractive',\n",
              "                                                     [key], {});\n",
              "          if (!dataTable) return;\n",
              "\n",
              "          const docLinkHtml = 'Like what you see? Visit the ' +\n",
              "            '<a target=\"_blank\" href=https://colab.research.google.com/notebooks/data_table.ipynb>data table notebook</a>'\n",
              "            + ' to learn more about interactive tables.';\n",
              "          element.innerHTML = '';\n",
              "          dataTable['output_type'] = 'display_data';\n",
              "          await google.colab.output.renderOutput(dataTable, element);\n",
              "          const docLink = document.createElement('div');\n",
              "          docLink.innerHTML = docLinkHtml;\n",
              "          element.appendChild(docLink);\n",
              "        }\n",
              "      </script>\n",
              "    </div>\n",
              "  </div>\n",
              "  "
            ]
          },
          "metadata": {},
          "execution_count": 77
        }
      ]
    },
    {
      "cell_type": "code",
      "source": [
        "vals_all_in.shape"
      ],
      "metadata": {
        "colab": {
          "base_uri": "https://localhost:8080/"
        },
        "id": "h4_kKwVXMJb1",
        "outputId": "27c02ab6-8d3f-4774-9787-91b853fc470b"
      },
      "execution_count": 78,
      "outputs": [
        {
          "output_type": "execute_result",
          "data": {
            "text/plain": [
              "(1269, 99)"
            ]
          },
          "metadata": {},
          "execution_count": 78
        }
      ]
    },
    {
      "cell_type": "markdown",
      "source": [
        "vals_all_in include 1269 participant's vote on the 99 comments"
      ],
      "metadata": {
        "id": "PUb2b7hfXOLc"
      }
    },
    {
      "cell_type": "markdown",
      "source": [
        "## process comment dataframe\n",
        "\n"
      ],
      "metadata": {
        "id": "AtWdOowSHKh7"
      }
    },
    {
      "cell_type": "markdown",
      "source": [
        "### translate comments to english"
      ],
      "metadata": {
        "id": "slX9x8BhHZOU"
      }
    },
    {
      "cell_type": "code",
      "source": [
        "# delete all rows contain URL\n",
        "df_comments = df_comments[~df_comments[\"comment-body\"].str.contains(\"http\", case=False)]"
      ],
      "metadata": {
        "id": "4gwImYWrcb69"
      },
      "execution_count": 79,
      "outputs": []
    },
    {
      "cell_type": "code",
      "source": [
        "# Initial\n",
        "translator = googletrans.Translator()\n",
        "df_comments[\"comment-en\"] = [translator.translate(i, dest='en').text for i in tqdm(df_comments[\"comment-body\"]) ]\n"
      ],
      "metadata": {
        "colab": {
          "base_uri": "https://localhost:8080/",
          "height": 0,
          "referenced_widgets": [
            "532dc6658f2345bfa832f8a3dad6915a",
            "6abfde1e23484ae5a46b33e2307398eb",
            "de54f7289b0f4681b23efaae5d1741b1",
            "e3943a0435ca45358e49738b46c9d8ee",
            "e9b0e18c617c4431bf841383784e8e3f",
            "f8d081a9597c4919bf756542e2a9beb1",
            "2d04e7afb7264072b7239c2f90080900",
            "707a6c05a0eb491988969fa2bba65a48",
            "8e2ccc88f3aa4188b6dc8edf83cba9b3",
            "2bab99a185a54ec6b0ba070bf78f8e7c",
            "c991b5fcbb264f219f21fb8b20feda1e"
          ]
        },
        "id": "HE_19tu4Iahv",
        "outputId": "f46e5226-27b6-49c2-8ecb-953f01d3cdb6"
      },
      "execution_count": 80,
      "outputs": [
        {
          "output_type": "display_data",
          "data": {
            "text/plain": [
              "  0%|          | 0/196 [00:00<?, ?it/s]"
            ],
            "application/vnd.jupyter.widget-view+json": {
              "version_major": 2,
              "version_minor": 0,
              "model_id": "532dc6658f2345bfa832f8a3dad6915a"
            }
          },
          "metadata": {}
        }
      ]
    },
    {
      "cell_type": "code",
      "source": [
        "df_comments.head(5)"
      ],
      "metadata": {
        "colab": {
          "base_uri": "https://localhost:8080/",
          "height": 0
        },
        "id": "wF53OGLv9AhR",
        "outputId": "4533e6bf-044c-436c-9a63-f729bb15ac3d"
      },
      "execution_count": 81,
      "outputs": [
        {
          "output_type": "execute_result",
          "data": {
            "text/plain": [
              "       timestamp                      datetime  comment-id  author-id  agrees  \\\n",
              "0  1472552518501  Tue Aug 30 17:21:58 WIB 2016         194       4413       1   \n",
              "1  1472403087787  Sun Aug 28 23:51:27 WIB 2016         187       4378       1   \n",
              "2  1451878620176  Mon Jan 04 10:37:00 WIB 2016         183       4120       1   \n",
              "3  1438228490557  Thu Jul 30 10:54:50 WIB 2015         138       1476       1   \n",
              "4  1438155033741  Wed Jul 29 14:30:33 WIB 2015         130       1960       1   \n",
              "\n",
              "   disagrees  moderated                                       comment-body  \\\n",
              "0          0          0  Uber的出現 因服務內容明確、平台簡潔、交易程序精簡、路線糾紛減少，並有評價機制穩定服務雙...   \n",
              "1          0          0                          uber就是叫派計程車，談不上運用閒置資源或是共乘   \n",
              "2          0          0  探討法律、稅務、安全等問題時，應先理解供需，為什麼民眾會選擇Uber？簡單說就是機會成本的選...   \n",
              "3          0         -1  Uner只不過是用多餘的時間來賺取微薄的收入，黃牌不用繳交所得稅外還有補助，那麼我們上班族都...   \n",
              "4          0         -1  我覺得搭乘時完全不用擔心身上太多的零錢或是找不開的金額鈔票，一來可以讓司機放心身上不用帶太多...   \n",
              "\n",
              "                                          comment-en  \n",
              "0  The emergence of Uber due to clear service con...  \n",
              "1                            Uber is to send a taxi.  \n",
              "2  When discussing issues such as law, taxation, ...  \n",
              "3  UNER just earns a meager income in extra time....  \n",
              "4  I don't think you have to worry about too much...  "
            ],
            "text/html": [
              "\n",
              "  <div id=\"df-a29d30d6-7aad-4086-9509-9abacae38eda\">\n",
              "    <div class=\"colab-df-container\">\n",
              "      <div>\n",
              "<style scoped>\n",
              "    .dataframe tbody tr th:only-of-type {\n",
              "        vertical-align: middle;\n",
              "    }\n",
              "\n",
              "    .dataframe tbody tr th {\n",
              "        vertical-align: top;\n",
              "    }\n",
              "\n",
              "    .dataframe thead th {\n",
              "        text-align: right;\n",
              "    }\n",
              "</style>\n",
              "<table border=\"1\" class=\"dataframe\">\n",
              "  <thead>\n",
              "    <tr style=\"text-align: right;\">\n",
              "      <th></th>\n",
              "      <th>timestamp</th>\n",
              "      <th>datetime</th>\n",
              "      <th>comment-id</th>\n",
              "      <th>author-id</th>\n",
              "      <th>agrees</th>\n",
              "      <th>disagrees</th>\n",
              "      <th>moderated</th>\n",
              "      <th>comment-body</th>\n",
              "      <th>comment-en</th>\n",
              "    </tr>\n",
              "  </thead>\n",
              "  <tbody>\n",
              "    <tr>\n",
              "      <th>0</th>\n",
              "      <td>1472552518501</td>\n",
              "      <td>Tue Aug 30 17:21:58 WIB 2016</td>\n",
              "      <td>194</td>\n",
              "      <td>4413</td>\n",
              "      <td>1</td>\n",
              "      <td>0</td>\n",
              "      <td>0</td>\n",
              "      <td>Uber的出現 因服務內容明確、平台簡潔、交易程序精簡、路線糾紛減少，並有評價機制穩定服務雙...</td>\n",
              "      <td>The emergence of Uber due to clear service con...</td>\n",
              "    </tr>\n",
              "    <tr>\n",
              "      <th>1</th>\n",
              "      <td>1472403087787</td>\n",
              "      <td>Sun Aug 28 23:51:27 WIB 2016</td>\n",
              "      <td>187</td>\n",
              "      <td>4378</td>\n",
              "      <td>1</td>\n",
              "      <td>0</td>\n",
              "      <td>0</td>\n",
              "      <td>uber就是叫派計程車，談不上運用閒置資源或是共乘</td>\n",
              "      <td>Uber is to send a taxi.</td>\n",
              "    </tr>\n",
              "    <tr>\n",
              "      <th>2</th>\n",
              "      <td>1451878620176</td>\n",
              "      <td>Mon Jan 04 10:37:00 WIB 2016</td>\n",
              "      <td>183</td>\n",
              "      <td>4120</td>\n",
              "      <td>1</td>\n",
              "      <td>0</td>\n",
              "      <td>0</td>\n",
              "      <td>探討法律、稅務、安全等問題時，應先理解供需，為什麼民眾會選擇Uber？簡單說就是機會成本的選...</td>\n",
              "      <td>When discussing issues such as law, taxation, ...</td>\n",
              "    </tr>\n",
              "    <tr>\n",
              "      <th>3</th>\n",
              "      <td>1438228490557</td>\n",
              "      <td>Thu Jul 30 10:54:50 WIB 2015</td>\n",
              "      <td>138</td>\n",
              "      <td>1476</td>\n",
              "      <td>1</td>\n",
              "      <td>0</td>\n",
              "      <td>-1</td>\n",
              "      <td>Uner只不過是用多餘的時間來賺取微薄的收入，黃牌不用繳交所得稅外還有補助，那麼我們上班族都...</td>\n",
              "      <td>UNER just earns a meager income in extra time....</td>\n",
              "    </tr>\n",
              "    <tr>\n",
              "      <th>4</th>\n",
              "      <td>1438155033741</td>\n",
              "      <td>Wed Jul 29 14:30:33 WIB 2015</td>\n",
              "      <td>130</td>\n",
              "      <td>1960</td>\n",
              "      <td>1</td>\n",
              "      <td>0</td>\n",
              "      <td>-1</td>\n",
              "      <td>我覺得搭乘時完全不用擔心身上太多的零錢或是找不開的金額鈔票，一來可以讓司機放心身上不用帶太多...</td>\n",
              "      <td>I don't think you have to worry about too much...</td>\n",
              "    </tr>\n",
              "  </tbody>\n",
              "</table>\n",
              "</div>\n",
              "      <button class=\"colab-df-convert\" onclick=\"convertToInteractive('df-a29d30d6-7aad-4086-9509-9abacae38eda')\"\n",
              "              title=\"Convert this dataframe to an interactive table.\"\n",
              "              style=\"display:none;\">\n",
              "        \n",
              "  <svg xmlns=\"http://www.w3.org/2000/svg\" height=\"24px\"viewBox=\"0 0 24 24\"\n",
              "       width=\"24px\">\n",
              "    <path d=\"M0 0h24v24H0V0z\" fill=\"none\"/>\n",
              "    <path d=\"M18.56 5.44l.94 2.06.94-2.06 2.06-.94-2.06-.94-.94-2.06-.94 2.06-2.06.94zm-11 1L8.5 8.5l.94-2.06 2.06-.94-2.06-.94L8.5 2.5l-.94 2.06-2.06.94zm10 10l.94 2.06.94-2.06 2.06-.94-2.06-.94-.94-2.06-.94 2.06-2.06.94z\"/><path d=\"M17.41 7.96l-1.37-1.37c-.4-.4-.92-.59-1.43-.59-.52 0-1.04.2-1.43.59L10.3 9.45l-7.72 7.72c-.78.78-.78 2.05 0 2.83L4 21.41c.39.39.9.59 1.41.59.51 0 1.02-.2 1.41-.59l7.78-7.78 2.81-2.81c.8-.78.8-2.07 0-2.86zM5.41 20L4 18.59l7.72-7.72 1.47 1.35L5.41 20z\"/>\n",
              "  </svg>\n",
              "      </button>\n",
              "      \n",
              "  <style>\n",
              "    .colab-df-container {\n",
              "      display:flex;\n",
              "      flex-wrap:wrap;\n",
              "      gap: 12px;\n",
              "    }\n",
              "\n",
              "    .colab-df-convert {\n",
              "      background-color: #E8F0FE;\n",
              "      border: none;\n",
              "      border-radius: 50%;\n",
              "      cursor: pointer;\n",
              "      display: none;\n",
              "      fill: #1967D2;\n",
              "      height: 32px;\n",
              "      padding: 0 0 0 0;\n",
              "      width: 32px;\n",
              "    }\n",
              "\n",
              "    .colab-df-convert:hover {\n",
              "      background-color: #E2EBFA;\n",
              "      box-shadow: 0px 1px 2px rgba(60, 64, 67, 0.3), 0px 1px 3px 1px rgba(60, 64, 67, 0.15);\n",
              "      fill: #174EA6;\n",
              "    }\n",
              "\n",
              "    [theme=dark] .colab-df-convert {\n",
              "      background-color: #3B4455;\n",
              "      fill: #D2E3FC;\n",
              "    }\n",
              "\n",
              "    [theme=dark] .colab-df-convert:hover {\n",
              "      background-color: #434B5C;\n",
              "      box-shadow: 0px 1px 3px 1px rgba(0, 0, 0, 0.15);\n",
              "      filter: drop-shadow(0px 1px 2px rgba(0, 0, 0, 0.3));\n",
              "      fill: #FFFFFF;\n",
              "    }\n",
              "  </style>\n",
              "\n",
              "      <script>\n",
              "        const buttonEl =\n",
              "          document.querySelector('#df-a29d30d6-7aad-4086-9509-9abacae38eda button.colab-df-convert');\n",
              "        buttonEl.style.display =\n",
              "          google.colab.kernel.accessAllowed ? 'block' : 'none';\n",
              "\n",
              "        async function convertToInteractive(key) {\n",
              "          const element = document.querySelector('#df-a29d30d6-7aad-4086-9509-9abacae38eda');\n",
              "          const dataTable =\n",
              "            await google.colab.kernel.invokeFunction('convertToInteractive',\n",
              "                                                     [key], {});\n",
              "          if (!dataTable) return;\n",
              "\n",
              "          const docLinkHtml = 'Like what you see? Visit the ' +\n",
              "            '<a target=\"_blank\" href=https://colab.research.google.com/notebooks/data_table.ipynb>data table notebook</a>'\n",
              "            + ' to learn more about interactive tables.';\n",
              "          element.innerHTML = '';\n",
              "          dataTable['output_type'] = 'display_data';\n",
              "          await google.colab.output.renderOutput(dataTable, element);\n",
              "          const docLink = document.createElement('div');\n",
              "          docLink.innerHTML = docLinkHtml;\n",
              "          element.appendChild(docLink);\n",
              "        }\n",
              "      </script>\n",
              "    </div>\n",
              "  </div>\n",
              "  "
            ]
          },
          "metadata": {},
          "execution_count": 81
        }
      ]
    },
    {
      "cell_type": "markdown",
      "source": [
        "### filter moderated out comments"
      ],
      "metadata": {
        "id": "PeY3Nmu5Q5uX"
      }
    },
    {
      "cell_type": "code",
      "source": [
        "moderated_out = sorted(list(df_comments.loc[df_comments[\"moderated\"] !=1].index.array), key = int)"
      ],
      "metadata": {
        "id": "rj0sNhFNY2M8"
      },
      "execution_count": 82,
      "outputs": []
    },
    {
      "cell_type": "code",
      "source": [
        "# example of moderated out comments\n",
        "non_qulified_cmt = df_comments[~df_comments['comment-id'].isin(statements_all_in)].sample(5)[['comment-id', 'moderated', 'comment-body', 'comment-en']]\n",
        "non_qulified_cmt"
      ],
      "metadata": {
        "colab": {
          "base_uri": "https://localhost:8080/",
          "height": 354
        },
        "id": "9ZhGOVjDYe-Q",
        "outputId": "cfd1d980-1f02-4afb-fef9-65b0e0a204d3"
      },
      "execution_count": 83,
      "outputs": [
        {
          "output_type": "execute_result",
          "data": {
            "text/plain": [
              "     comment-id  moderated                                       comment-body  \\\n",
              "93           81         -1                              我覺得還好，但如果可以開放民眾查得到會更好   \n",
              "103          91         -1     我覺得台灣放行Uber營運可以讓民眾多一個便捷的交通方式，且Uber有保障乘客許多權益機制。   \n",
              "71          142         -1                不喜歡 Uber 的人，除了自己不坐，還應該可以要求立法叫大家都不能坐   \n",
              "157         132         -1  我覺得有競爭才會有進步，政府可以針對uber哪裡不合法，需要改或討論的，我相信uber會去做...   \n",
              "0           194          0  Uber的出現 因服務內容明確、平台簡潔、交易程序精簡、路線糾紛減少，並有評價機制穩定服務雙...   \n",
              "\n",
              "                                            comment-en  \n",
              "93   I think it's okay, but it would be better if t...  \n",
              "103  I think that Taiwan's release of Uber operatio...  \n",
              "71   Those who don’t like Uber, in addition to not ...  \n",
              "157  I think there will be progress in competition....  \n",
              "0    The emergence of Uber due to clear service con...  "
            ],
            "text/html": [
              "\n",
              "  <div id=\"df-06e33b4e-2929-41d6-ba31-7704f0cd575d\">\n",
              "    <div class=\"colab-df-container\">\n",
              "      <div>\n",
              "<style scoped>\n",
              "    .dataframe tbody tr th:only-of-type {\n",
              "        vertical-align: middle;\n",
              "    }\n",
              "\n",
              "    .dataframe tbody tr th {\n",
              "        vertical-align: top;\n",
              "    }\n",
              "\n",
              "    .dataframe thead th {\n",
              "        text-align: right;\n",
              "    }\n",
              "</style>\n",
              "<table border=\"1\" class=\"dataframe\">\n",
              "  <thead>\n",
              "    <tr style=\"text-align: right;\">\n",
              "      <th></th>\n",
              "      <th>comment-id</th>\n",
              "      <th>moderated</th>\n",
              "      <th>comment-body</th>\n",
              "      <th>comment-en</th>\n",
              "    </tr>\n",
              "  </thead>\n",
              "  <tbody>\n",
              "    <tr>\n",
              "      <th>93</th>\n",
              "      <td>81</td>\n",
              "      <td>-1</td>\n",
              "      <td>我覺得還好，但如果可以開放民眾查得到會更好</td>\n",
              "      <td>I think it's okay, but it would be better if t...</td>\n",
              "    </tr>\n",
              "    <tr>\n",
              "      <th>103</th>\n",
              "      <td>91</td>\n",
              "      <td>-1</td>\n",
              "      <td>我覺得台灣放行Uber營運可以讓民眾多一個便捷的交通方式，且Uber有保障乘客許多權益機制。</td>\n",
              "      <td>I think that Taiwan's release of Uber operatio...</td>\n",
              "    </tr>\n",
              "    <tr>\n",
              "      <th>71</th>\n",
              "      <td>142</td>\n",
              "      <td>-1</td>\n",
              "      <td>不喜歡 Uber 的人，除了自己不坐，還應該可以要求立法叫大家都不能坐</td>\n",
              "      <td>Those who don’t like Uber, in addition to not ...</td>\n",
              "    </tr>\n",
              "    <tr>\n",
              "      <th>157</th>\n",
              "      <td>132</td>\n",
              "      <td>-1</td>\n",
              "      <td>我覺得有競爭才會有進步，政府可以針對uber哪裡不合法，需要改或討論的，我相信uber會去做...</td>\n",
              "      <td>I think there will be progress in competition....</td>\n",
              "    </tr>\n",
              "    <tr>\n",
              "      <th>0</th>\n",
              "      <td>194</td>\n",
              "      <td>0</td>\n",
              "      <td>Uber的出現 因服務內容明確、平台簡潔、交易程序精簡、路線糾紛減少，並有評價機制穩定服務雙...</td>\n",
              "      <td>The emergence of Uber due to clear service con...</td>\n",
              "    </tr>\n",
              "  </tbody>\n",
              "</table>\n",
              "</div>\n",
              "      <button class=\"colab-df-convert\" onclick=\"convertToInteractive('df-06e33b4e-2929-41d6-ba31-7704f0cd575d')\"\n",
              "              title=\"Convert this dataframe to an interactive table.\"\n",
              "              style=\"display:none;\">\n",
              "        \n",
              "  <svg xmlns=\"http://www.w3.org/2000/svg\" height=\"24px\"viewBox=\"0 0 24 24\"\n",
              "       width=\"24px\">\n",
              "    <path d=\"M0 0h24v24H0V0z\" fill=\"none\"/>\n",
              "    <path d=\"M18.56 5.44l.94 2.06.94-2.06 2.06-.94-2.06-.94-.94-2.06-.94 2.06-2.06.94zm-11 1L8.5 8.5l.94-2.06 2.06-.94-2.06-.94L8.5 2.5l-.94 2.06-2.06.94zm10 10l.94 2.06.94-2.06 2.06-.94-2.06-.94-.94-2.06-.94 2.06-2.06.94z\"/><path d=\"M17.41 7.96l-1.37-1.37c-.4-.4-.92-.59-1.43-.59-.52 0-1.04.2-1.43.59L10.3 9.45l-7.72 7.72c-.78.78-.78 2.05 0 2.83L4 21.41c.39.39.9.59 1.41.59.51 0 1.02-.2 1.41-.59l7.78-7.78 2.81-2.81c.8-.78.8-2.07 0-2.86zM5.41 20L4 18.59l7.72-7.72 1.47 1.35L5.41 20z\"/>\n",
              "  </svg>\n",
              "      </button>\n",
              "      \n",
              "  <style>\n",
              "    .colab-df-container {\n",
              "      display:flex;\n",
              "      flex-wrap:wrap;\n",
              "      gap: 12px;\n",
              "    }\n",
              "\n",
              "    .colab-df-convert {\n",
              "      background-color: #E8F0FE;\n",
              "      border: none;\n",
              "      border-radius: 50%;\n",
              "      cursor: pointer;\n",
              "      display: none;\n",
              "      fill: #1967D2;\n",
              "      height: 32px;\n",
              "      padding: 0 0 0 0;\n",
              "      width: 32px;\n",
              "    }\n",
              "\n",
              "    .colab-df-convert:hover {\n",
              "      background-color: #E2EBFA;\n",
              "      box-shadow: 0px 1px 2px rgba(60, 64, 67, 0.3), 0px 1px 3px 1px rgba(60, 64, 67, 0.15);\n",
              "      fill: #174EA6;\n",
              "    }\n",
              "\n",
              "    [theme=dark] .colab-df-convert {\n",
              "      background-color: #3B4455;\n",
              "      fill: #D2E3FC;\n",
              "    }\n",
              "\n",
              "    [theme=dark] .colab-df-convert:hover {\n",
              "      background-color: #434B5C;\n",
              "      box-shadow: 0px 1px 3px 1px rgba(0, 0, 0, 0.15);\n",
              "      filter: drop-shadow(0px 1px 2px rgba(0, 0, 0, 0.3));\n",
              "      fill: #FFFFFF;\n",
              "    }\n",
              "  </style>\n",
              "\n",
              "      <script>\n",
              "        const buttonEl =\n",
              "          document.querySelector('#df-06e33b4e-2929-41d6-ba31-7704f0cd575d button.colab-df-convert');\n",
              "        buttonEl.style.display =\n",
              "          google.colab.kernel.accessAllowed ? 'block' : 'none';\n",
              "\n",
              "        async function convertToInteractive(key) {\n",
              "          const element = document.querySelector('#df-06e33b4e-2929-41d6-ba31-7704f0cd575d');\n",
              "          const dataTable =\n",
              "            await google.colab.kernel.invokeFunction('convertToInteractive',\n",
              "                                                     [key], {});\n",
              "          if (!dataTable) return;\n",
              "\n",
              "          const docLinkHtml = 'Like what you see? Visit the ' +\n",
              "            '<a target=\"_blank\" href=https://colab.research.google.com/notebooks/data_table.ipynb>data table notebook</a>'\n",
              "            + ' to learn more about interactive tables.';\n",
              "          element.innerHTML = '';\n",
              "          dataTable['output_type'] = 'display_data';\n",
              "          await google.colab.output.renderOutput(dataTable, element);\n",
              "          const docLink = document.createElement('div');\n",
              "          docLink.innerHTML = docLinkHtml;\n",
              "          element.appendChild(docLink);\n",
              "        }\n",
              "      </script>\n",
              "    </div>\n",
              "  </div>\n",
              "  "
            ]
          },
          "metadata": {},
          "execution_count": 83
        }
      ]
    },
    {
      "cell_type": "code",
      "source": [
        "# example of comments which keep\n",
        "left_cmts = df_comments[df_comments['comment-id'].isin(statements_all_in)].sample(5)[['comment-id','moderated', 'comment-body', 'comment-en']]\n",
        "left_cmts"
      ],
      "metadata": {
        "colab": {
          "base_uri": "https://localhost:8080/",
          "height": 354
        },
        "id": "vNXlPU2jR3yd",
        "outputId": "7c277691-053e-499f-f13f-9bea67c9a0f3"
      },
      "execution_count": 84,
      "outputs": [
        {
          "output_type": "execute_result",
          "data": {
            "text/plain": [
              "     comment-id  moderated                                       comment-body  \\\n",
              "17          151          1              我覺得目前管理職業客車的法規對分享經濟很不友善。應該要盡速修法，比較環保。   \n",
              "80           66          1  我覺得Uber司機開車時較不會像計程車司機亂鑽，當客人要下車時計程車會直接切換車道不顧後方來...   \n",
              "123         165          1  我覺得真正共乘的精神, 應該要讓司機能選擇去什麼地區的乘客一起搭乘, 否則共乘只是白牌車營業...   \n",
              "84           72          1                 我覺得UberX在計費上通常較計程車便宜，平均都能省下一個便當的錢。   \n",
              "176          12          1                           Uber 是媒合平台，就像拍賣網站，屬於資訊業。   \n",
              "\n",
              "                                            comment-en  \n",
              "17   I think the regulations that currently manage ...  \n",
              "80   I think the Uber driver is less like a taxi dr...  \n",
              "123  I think the spirit of the real co -coexistence...  \n",
              "84   I think Uberx is usually cheaper than taxis in...  \n",
              "176  Uber is a media platform, just like auction we...  "
            ],
            "text/html": [
              "\n",
              "  <div id=\"df-077cdb50-8700-482e-8900-8c9ed7547cd9\">\n",
              "    <div class=\"colab-df-container\">\n",
              "      <div>\n",
              "<style scoped>\n",
              "    .dataframe tbody tr th:only-of-type {\n",
              "        vertical-align: middle;\n",
              "    }\n",
              "\n",
              "    .dataframe tbody tr th {\n",
              "        vertical-align: top;\n",
              "    }\n",
              "\n",
              "    .dataframe thead th {\n",
              "        text-align: right;\n",
              "    }\n",
              "</style>\n",
              "<table border=\"1\" class=\"dataframe\">\n",
              "  <thead>\n",
              "    <tr style=\"text-align: right;\">\n",
              "      <th></th>\n",
              "      <th>comment-id</th>\n",
              "      <th>moderated</th>\n",
              "      <th>comment-body</th>\n",
              "      <th>comment-en</th>\n",
              "    </tr>\n",
              "  </thead>\n",
              "  <tbody>\n",
              "    <tr>\n",
              "      <th>17</th>\n",
              "      <td>151</td>\n",
              "      <td>1</td>\n",
              "      <td>我覺得目前管理職業客車的法規對分享經濟很不友善。應該要盡速修法，比較環保。</td>\n",
              "      <td>I think the regulations that currently manage ...</td>\n",
              "    </tr>\n",
              "    <tr>\n",
              "      <th>80</th>\n",
              "      <td>66</td>\n",
              "      <td>1</td>\n",
              "      <td>我覺得Uber司機開車時較不會像計程車司機亂鑽，當客人要下車時計程車會直接切換車道不顧後方來...</td>\n",
              "      <td>I think the Uber driver is less like a taxi dr...</td>\n",
              "    </tr>\n",
              "    <tr>\n",
              "      <th>123</th>\n",
              "      <td>165</td>\n",
              "      <td>1</td>\n",
              "      <td>我覺得真正共乘的精神, 應該要讓司機能選擇去什麼地區的乘客一起搭乘, 否則共乘只是白牌車營業...</td>\n",
              "      <td>I think the spirit of the real co -coexistence...</td>\n",
              "    </tr>\n",
              "    <tr>\n",
              "      <th>84</th>\n",
              "      <td>72</td>\n",
              "      <td>1</td>\n",
              "      <td>我覺得UberX在計費上通常較計程車便宜，平均都能省下一個便當的錢。</td>\n",
              "      <td>I think Uberx is usually cheaper than taxis in...</td>\n",
              "    </tr>\n",
              "    <tr>\n",
              "      <th>176</th>\n",
              "      <td>12</td>\n",
              "      <td>1</td>\n",
              "      <td>Uber 是媒合平台，就像拍賣網站，屬於資訊業。</td>\n",
              "      <td>Uber is a media platform, just like auction we...</td>\n",
              "    </tr>\n",
              "  </tbody>\n",
              "</table>\n",
              "</div>\n",
              "      <button class=\"colab-df-convert\" onclick=\"convertToInteractive('df-077cdb50-8700-482e-8900-8c9ed7547cd9')\"\n",
              "              title=\"Convert this dataframe to an interactive table.\"\n",
              "              style=\"display:none;\">\n",
              "        \n",
              "  <svg xmlns=\"http://www.w3.org/2000/svg\" height=\"24px\"viewBox=\"0 0 24 24\"\n",
              "       width=\"24px\">\n",
              "    <path d=\"M0 0h24v24H0V0z\" fill=\"none\"/>\n",
              "    <path d=\"M18.56 5.44l.94 2.06.94-2.06 2.06-.94-2.06-.94-.94-2.06-.94 2.06-2.06.94zm-11 1L8.5 8.5l.94-2.06 2.06-.94-2.06-.94L8.5 2.5l-.94 2.06-2.06.94zm10 10l.94 2.06.94-2.06 2.06-.94-2.06-.94-.94-2.06-.94 2.06-2.06.94z\"/><path d=\"M17.41 7.96l-1.37-1.37c-.4-.4-.92-.59-1.43-.59-.52 0-1.04.2-1.43.59L10.3 9.45l-7.72 7.72c-.78.78-.78 2.05 0 2.83L4 21.41c.39.39.9.59 1.41.59.51 0 1.02-.2 1.41-.59l7.78-7.78 2.81-2.81c.8-.78.8-2.07 0-2.86zM5.41 20L4 18.59l7.72-7.72 1.47 1.35L5.41 20z\"/>\n",
              "  </svg>\n",
              "      </button>\n",
              "      \n",
              "  <style>\n",
              "    .colab-df-container {\n",
              "      display:flex;\n",
              "      flex-wrap:wrap;\n",
              "      gap: 12px;\n",
              "    }\n",
              "\n",
              "    .colab-df-convert {\n",
              "      background-color: #E8F0FE;\n",
              "      border: none;\n",
              "      border-radius: 50%;\n",
              "      cursor: pointer;\n",
              "      display: none;\n",
              "      fill: #1967D2;\n",
              "      height: 32px;\n",
              "      padding: 0 0 0 0;\n",
              "      width: 32px;\n",
              "    }\n",
              "\n",
              "    .colab-df-convert:hover {\n",
              "      background-color: #E2EBFA;\n",
              "      box-shadow: 0px 1px 2px rgba(60, 64, 67, 0.3), 0px 1px 3px 1px rgba(60, 64, 67, 0.15);\n",
              "      fill: #174EA6;\n",
              "    }\n",
              "\n",
              "    [theme=dark] .colab-df-convert {\n",
              "      background-color: #3B4455;\n",
              "      fill: #D2E3FC;\n",
              "    }\n",
              "\n",
              "    [theme=dark] .colab-df-convert:hover {\n",
              "      background-color: #434B5C;\n",
              "      box-shadow: 0px 1px 3px 1px rgba(0, 0, 0, 0.15);\n",
              "      filter: drop-shadow(0px 1px 2px rgba(0, 0, 0, 0.3));\n",
              "      fill: #FFFFFF;\n",
              "    }\n",
              "  </style>\n",
              "\n",
              "      <script>\n",
              "        const buttonEl =\n",
              "          document.querySelector('#df-077cdb50-8700-482e-8900-8c9ed7547cd9 button.colab-df-convert');\n",
              "        buttonEl.style.display =\n",
              "          google.colab.kernel.accessAllowed ? 'block' : 'none';\n",
              "\n",
              "        async function convertToInteractive(key) {\n",
              "          const element = document.querySelector('#df-077cdb50-8700-482e-8900-8c9ed7547cd9');\n",
              "          const dataTable =\n",
              "            await google.colab.kernel.invokeFunction('convertToInteractive',\n",
              "                                                     [key], {});\n",
              "          if (!dataTable) return;\n",
              "\n",
              "          const docLinkHtml = 'Like what you see? Visit the ' +\n",
              "            '<a target=\"_blank\" href=https://colab.research.google.com/notebooks/data_table.ipynb>data table notebook</a>'\n",
              "            + ' to learn more about interactive tables.';\n",
              "          element.innerHTML = '';\n",
              "          dataTable['output_type'] = 'display_data';\n",
              "          await google.colab.output.renderOutput(dataTable, element);\n",
              "          const docLink = document.createElement('div');\n",
              "          docLink.innerHTML = docLinkHtml;\n",
              "          element.appendChild(docLink);\n",
              "        }\n",
              "      </script>\n",
              "    </div>\n",
              "  </div>\n",
              "  "
            ]
          },
          "metadata": {},
          "execution_count": 84
        }
      ]
    },
    {
      "cell_type": "code",
      "source": [
        "df_comments = df_comments[df_comments['comment-id'].isin(statements_all_in)]"
      ],
      "metadata": {
        "id": "RmRmmlu9YqtV"
      },
      "execution_count": 85,
      "outputs": []
    },
    {
      "cell_type": "markdown",
      "source": [
        "### check high variance comments\n",
        "\n"
      ],
      "metadata": {
        "id": "kj4rHIdw1pEz"
      }
    },
    {
      "cell_type": "code",
      "source": [
        "def get_top_var_idx(data, n):\n",
        "    arr = np.var(data.to_numpy(), axis=0)\n",
        "\n",
        "    sorted_index_array = np.argsort(arr)[-n:]\n",
        "\n",
        "    keys = data.columns[sorted_index_array]\n",
        "    \n",
        "    return keys\n"
      ],
      "metadata": {
        "id": "HiLpkCUV1oUt"
      },
      "execution_count": 86,
      "outputs": []
    },
    {
      "cell_type": "markdown",
      "source": [
        "obtain the list of comments that derive high variances and low variances respectively"
      ],
      "metadata": {
        "id": "U5-s0ryg6rlu"
      }
    },
    {
      "cell_type": "code",
      "source": [
        "high_variance_cmts = get_top_var_idx(vals.drop(\"participant\",axis=1), 10)\n",
        "statements_consensus = get_top_var_idx(vals.drop(\"participant\",axis=1), -10)"
      ],
      "metadata": {
        "id": "KPJz3SJg32Bp"
      },
      "execution_count": 87,
      "outputs": []
    },
    {
      "cell_type": "code",
      "source": [
        "df_comments = df_comments[df_comments['comment-id'].isin(statements_all_in)]"
      ],
      "metadata": {
        "id": "EvhWPR55hCqq"
      },
      "execution_count": 88,
      "outputs": []
    },
    {
      "cell_type": "markdown",
      "source": [
        "### convert columnd: **datetime** to timestamp data type"
      ],
      "metadata": {
        "id": "yT4giQOjOMSK"
      }
    },
    {
      "cell_type": "code",
      "source": [
        "print(type(df_comments['datetime'].iloc[0]))\n",
        "df_comments['datetime'] = df_comments['datetime'].str.replace(' WIB', '')\n",
        "df_comments['datetime'] = pd.to_datetime(df_comments['datetime'], infer_datetime_format=True)  \n",
        "print(type(df_comments['datetime'].iloc[0]))\n"
      ],
      "metadata": {
        "colab": {
          "base_uri": "https://localhost:8080/"
        },
        "id": "oY3qWsEP2ukT",
        "outputId": "152e5632-05fe-4e56-940f-be9cc899c747"
      },
      "execution_count": 89,
      "outputs": [
        {
          "output_type": "stream",
          "name": "stdout",
          "text": [
            "<class 'str'>\n",
            "<class 'pandas._libs.tslibs.timestamps.Timestamp'>\n"
          ]
        }
      ]
    },
    {
      "cell_type": "markdown",
      "source": [
        "# 2. analysis\n"
      ],
      "metadata": {
        "id": "-eLwr41rXX5n"
      }
    },
    {
      "cell_type": "markdown",
      "source": [
        "**Data info**\n",
        "How sparse is the dataset? How much agree, how much disagree, how much pass? Zero is 'passed' or 'did not see the comment to vote on it'. 1 is agree, -1 is disagree"
      ],
      "metadata": {
        "id": "QeAwU6m4XkEi"
      }
    },
    {
      "cell_type": "code",
      "source": [
        "melted = vals.melt();\n",
        "all_votes = melted.count();\n",
        "by_type = melted[\"value\"].value_counts();\n",
        "total_possible_votes = all_votes[\"value\"];\n",
        "total_agrees = by_type[1.0];\n",
        "total_disagrees = by_type[-1.0];\n",
        "total_without_vote = by_type[0.0];\n",
        "\n",
        "print(\"Dimensions of matrix:\", df.shape)\n",
        "print(\"Dimensions of matrix:\", vals.shape)\n",
        "print(\"Total number of possible votes:\", total_possible_votes)\n",
        "print(\"Total number of agrees:\", total_agrees)\n",
        "print(\"Total number of disagrees:\", total_disagrees)\n",
        "print(\"Total without vote:\", total_without_vote)\n",
        "print(\"Percent sparse: \", total_without_vote / total_possible_votes,\"%\")\n",
        "\n",
        "## Make sure to check how many people and votes, relative to the total matrix, you are losing given min vote threshold"
      ],
      "metadata": {
        "colab": {
          "base_uri": "https://localhost:8080/"
        },
        "id": "KaSvGZrRXidQ",
        "outputId": "ad9f5625-8387-4e10-838f-fc945b531ce0"
      },
      "execution_count": 90,
      "outputs": [
        {
          "output_type": "stream",
          "name": "stdout",
          "text": [
            "Dimensions of matrix: (1269, 203)\n",
            "Dimensions of matrix: (1269, 198)\n",
            "Total number of possible votes: 251262\n",
            "Total number of agrees: 30237\n",
            "Total number of disagrees: 11661\n",
            "Total without vote: 208097\n",
            "Percent sparse:  0.8282072100039003 %\n"
          ]
        }
      ]
    },
    {
      "cell_type": "markdown",
      "source": [
        "## cluster functions"
      ],
      "metadata": {
        "id": "xinZWthWIGFE"
      }
    },
    {
      "cell_type": "code",
      "source": [
        "def kmean_get_grouped(df, embeds, k):\n",
        "    grouped_embed = KMeans(n_clusters=k, random_state=0)\n",
        "    grouped_embed = grouped_embed.fit(embeds)\n",
        "    labs = grouped_embed.labels_\n",
        "\n",
        "    res_list=[]\n",
        "    for i in range(k):\n",
        "        key = np.where(labs == i )[0]\n",
        "        idx = np.take(df.index.to_numpy(), key)\n",
        "        res_list.append(df.filter(items = idx, axis=0))\n",
        "\n",
        "    return res_list"
      ],
      "metadata": {
        "id": "5Z6BDlGghI3z"
      },
      "execution_count": 91,
      "outputs": []
    },
    {
      "cell_type": "markdown",
      "source": [
        "## some graph funct"
      ],
      "metadata": {
        "id": "6SOKOrpe9vXq"
      }
    },
    {
      "cell_type": "code",
      "source": [
        "import numba\n",
        "\n",
        "@numba.njit()\n",
        "def sparsity_aware_dist(a, b):\n",
        "    n_both_seen = len(a) - (np.isnan(a) | np.isnan(b)).sum()\n",
        "    return (n_both_seen - (a == b).sum() + 1) / (n_both_seen + 2)"
      ],
      "metadata": {
        "id": "MU6qXQKa-NBw"
      },
      "execution_count": 92,
      "outputs": []
    },
    {
      "cell_type": "code",
      "source": [
        "def show_embedding(space, color, title):\n",
        "\n",
        "    fig, ax = plt.subplots(figsize=(7,5))\n",
        "    plt.sca(ax)\n",
        "    # NB: palette contains only 20 colors ('tab20')\n",
        "    # (User needs to artificially limit communities to <20)\n",
        "    ax.scatter(\n",
        "        x=space[:,0],\n",
        "        y=space[:,1],\n",
        "        c=color,\n",
        "        cmap=\"tab20\",\n",
        "        s=5\n",
        "    )\n",
        "    ax.set_title(title, fontsize=14)\n",
        "    plt.show()\n",
        "    return plt"
      ],
      "metadata": {
        "id": "nOcWLHbB-VZN"
      },
      "execution_count": 93,
      "outputs": []
    },
    {
      "cell_type": "code",
      "source": [],
      "metadata": {
        "id": "U80jBvfi9vAU"
      },
      "execution_count": 93,
      "outputs": []
    },
    {
      "cell_type": "markdown",
      "source": [
        "## Full participants * comments matrix\n",
        "\n",
        "Some things to notice about the matrix: comments are submitted over time, so participants who do not return will only have voted on the statements which were avialable when they arrived.\n",
        "\n",
        "Long horizontal lines: participants who do return show up as a horizontal line sticking out into otherwise blank areas\n",
        "\n",
        "Blank vertical lines: most likely statements which were moderated out of the conversation."
      ],
      "metadata": {
        "id": "bcuXprS9YYqx"
      }
    },
    {
      "cell_type": "code",
      "source": [
        "fig, ax = plt.subplots(figsize=(14,14))\n",
        "sns.heatmap(vals_all_in, center=0, cmap=\"RdYlBu\", ax=ax)"
      ],
      "metadata": {
        "colab": {
          "base_uri": "https://localhost:8080/",
          "height": 841
        },
        "id": "U1g4ATMIYiqN",
        "outputId": "3512becb-9d31-43b3-bcc0-d85609f87626"
      },
      "execution_count": 94,
      "outputs": [
        {
          "output_type": "execute_result",
          "data": {
            "text/plain": [
              "<matplotlib.axes._subplots.AxesSubplot at 0x7fa1144050a0>"
            ]
          },
          "metadata": {},
          "execution_count": 94
        },
        {
          "output_type": "display_data",
          "data": {
            "text/plain": [
              "<Figure size 1008x1008 with 2 Axes>"
            ],
            "image/png": "[encoded data removed]"
          },
          "metadata": {
            "needs_background": "light"
          }
        }
      ]
    },
    {
      "cell_type": "markdown",
      "source": [
        "- The horizontal axis are comments-id from 1-197, some horizontal lines are blank for it's being moderated out. \n",
        "\n",
        "- The vertical axis are the participants id\n"
      ],
      "metadata": {
        "id": "YozDvuHJE3Az"
      }
    },
    {
      "cell_type": "markdown",
      "source": [
        "## PCA\n",
        "\n",
        "Pros: \n",
        "- Relatively computationally cheap \n",
        "- Can save embedding model to then project new data points into the reduced space. \n",
        "\n",
        "Cons:\n",
        "- Linear reduction limits information that can be captured not as discriminably clusters as other algorithms"
      ],
      "metadata": {
        "id": "1kcbbQfaYqek"
      }
    },
    {
      "cell_type": "markdown",
      "source": [
        "PCA with 2 principle components only explain approximate 30% of the variance, while explain near 80% of variance when include 20 principle components."
      ],
      "metadata": {
        "id": "B05enj76eA6J"
      }
    },
    {
      "cell_type": "markdown",
      "source": [
        "The graph shows that the seperation is not very boundary-clear\n"
      ],
      "metadata": {
        "id": "iQ1I1FibefHj"
      }
    },
    {
      "cell_type": "code",
      "source": [
        "def polis_pca(dataframe, components):\n",
        "    pca_object = PCA(n_components=components) ## pca is apparently different, it wants \n",
        "    pca_object = pca_object.fit(dataframe.T) ## .T transposes the matrix (flips it)\n",
        "    coords = pca_object.components_.T ## isolate the coordinates and flip \n",
        "    explained_variance = pca_object.explained_variance_ratio_\n",
        "\n",
        "    return coords, explained_variance"
      ],
      "metadata": {
        "id": "mlHyvhXva2kl"
      },
      "execution_count": 95,
      "outputs": []
    },
    {
      "cell_type": "code",
      "source": [
        "def kmean_get_grouped(data, embeds, k=2, df=df):\n",
        "    grouped_embed = KMeans(n_clusters=k, random_state=0).fit(embeds)\n",
        "    labs = grouped_embed.labels_\n",
        "\n",
        "    res_list=[]\n",
        "    for i in range(k):\n",
        "        key = np.where(labs == i )[0]\n",
        "        idx = np.take(data.index.to_numpy(), key)\n",
        "        res_list.append(df.filter(items = idx, axis=0))\n",
        "\n",
        "    return res_list"
      ],
      "metadata": {
        "id": "bbsEIIBXiGXU"
      },
      "execution_count": 96,
      "outputs": []
    },
    {
      "cell_type": "code",
      "source": [
        "\n",
        "coords, explained_variance = polis_pca(vals_all_in, 4)\n",
        "print(\"Explained variance:\", explained_variance)\n",
        "\n",
        "show_embedding(coords, \"blue\", \"Result of PCA\")\n",
        "\n",
        "# grouped_embed = KMeans(n_clusters=2, random_state=0).fit(coords)\n",
        "# labs = grouped_embed.labels_\n",
        "\n",
        "# A_key = np.where(labs == 0 )[0]\n",
        "# B_key = np.where(labs == 1 )[0]\n",
        "# print(len(A_key), len(B_key))\n",
        "grouped_df = kmean_get_grouped(data=vals_all_in, embeds=coords)\n",
        "grouped_df[0]"
      ],
      "metadata": {
        "colab": {
          "base_uri": "https://localhost:8080/",
          "height": 843
        },
        "id": "G7rVl9-49dSk",
        "outputId": "b3a01ed2-9756-482f-f527-d4ac8363ab3e"
      },
      "execution_count": 97,
      "outputs": [
        {
          "output_type": "stream",
          "name": "stdout",
          "text": [
            "Explained variance: [0.22020392 0.09543237 0.0272325  0.02283343]\n"
          ]
        },
        {
          "output_type": "display_data",
          "data": {
            "text/plain": [
              "<Figure size 504x360 with 1 Axes>"
            ],
            "image/png": "[encoded data removed]"
          },
          "metadata": {
            "needs_background": "light"
          }
        },
        {
          "output_type": "execute_result",
          "data": {
            "text/plain": [
              "      participant  group-id  n-comments  n-votes  n-agree  n-disagree    0  \\\n",
              "0               0       0.0          46      101       44          12  1.0   \n",
              "1               1       1.0           0       29       14          10  1.0   \n",
              "2               2       1.0           5       88       58          15  1.0   \n",
              "3               4       1.0           0       31       13          16  1.0   \n",
              "4               5       1.0           0       11        0           0  0.0   \n",
              "...           ...       ...         ...      ...      ...         ...  ...   \n",
              "1257         4537       1.0           0       18       10           8  NaN   \n",
              "1258         4579       1.0           0        7        6           0  NaN   \n",
              "1261         4661       1.0           0       18        5           0  NaN   \n",
              "1265          958       1.0           0       13        7           4  NaN   \n",
              "1266          982       0.0           0       11        8           3  NaN   \n",
              "\n",
              "        1    2    3  ...  187  188  189  190  191  192  193  194  195  196  \n",
              "0     1.0  1.0  1.0  ...  NaN  NaN  NaN  NaN  NaN  NaN  NaN  NaN  NaN  NaN  \n",
              "1    -1.0 -1.0  1.0  ...  NaN  NaN  NaN  NaN  NaN  NaN  NaN  NaN  NaN  NaN  \n",
              "2    -1.0 -1.0  1.0  ...  NaN  NaN  NaN  NaN  NaN  NaN  NaN  NaN  NaN  NaN  \n",
              "3    -1.0 -1.0  1.0  ...  NaN  NaN  NaN  NaN  NaN  NaN  NaN  NaN  NaN  NaN  \n",
              "4     0.0  0.0  0.0  ...  NaN  NaN  NaN  NaN  NaN  NaN  NaN  NaN  NaN  NaN  \n",
              "...   ...  ...  ...  ...  ...  ...  ...  ...  ...  ...  ...  ...  ...  ...  \n",
              "1257  NaN  NaN  NaN  ...  NaN  NaN  NaN  NaN  NaN  NaN  NaN  NaN  NaN  NaN  \n",
              "1258  NaN  NaN  NaN  ...  NaN  NaN  NaN  NaN  NaN  NaN  NaN  NaN  NaN  NaN  \n",
              "1261  NaN  NaN  NaN  ...  NaN  NaN  NaN  NaN  NaN  NaN  NaN  NaN  NaN  NaN  \n",
              "1265  NaN  NaN  NaN  ...  NaN  NaN  NaN  NaN  NaN  NaN  NaN  NaN  NaN  NaN  \n",
              "1266  NaN  NaN  NaN  ...  NaN  NaN  NaN  NaN  NaN  NaN  NaN  NaN  NaN  NaN  \n",
              "\n",
              "[923 rows x 203 columns]"
            ],
            "text/html": [
              "\n",
              "  <div id=\"df-14c423f2-e449-4387-a6be-09d869bd0bdd\">\n",
              "    <div class=\"colab-df-container\">\n",
              "      <div>\n",
              "<style scoped>\n",
              "    .dataframe tbody tr th:only-of-type {\n",
              "        vertical-align: middle;\n",
              "    }\n",
              "\n",
              "    .dataframe tbody tr th {\n",
              "        vertical-align: top;\n",
              "    }\n",
              "\n",
              "    .dataframe thead th {\n",
              "        text-align: right;\n",
              "    }\n",
              "</style>\n",
              "<table border=\"1\" class=\"dataframe\">\n",
              "  <thead>\n",
              "    <tr style=\"text-align: right;\">\n",
              "      <th></th>\n",
              "      <th>participant</th>\n",
              "      <th>group-id</th>\n",
              "      <th>n-comments</th>\n",
              "      <th>n-votes</th>\n",
              "      <th>n-agree</th>\n",
              "      <th>n-disagree</th>\n",
              "      <th>0</th>\n",
              "      <th>1</th>\n",
              "      <th>2</th>\n",
              "      <th>3</th>\n",
              "      <th>...</th>\n",
              "      <th>187</th>\n",
              "      <th>188</th>\n",
              "      <th>189</th>\n",
              "      <th>190</th>\n",
              "      <th>191</th>\n",
              "      <th>192</th>\n",
              "      <th>193</th>\n",
              "      <th>194</th>\n",
              "      <th>195</th>\n",
              "      <th>196</th>\n",
              "    </tr>\n",
              "  </thead>\n",
              "  <tbody>\n",
              "    <tr>\n",
              "      <th>0</th>\n",
              "      <td>0</td>\n",
              "      <td>0.0</td>\n",
              "      <td>46</td>\n",
              "      <td>101</td>\n",
              "      <td>44</td>\n",
              "      <td>12</td>\n",
              "      <td>1.0</td>\n",
              "      <td>1.0</td>\n",
              "      <td>1.0</td>\n",
              "      <td>1.0</td>\n",
              "      <td>...</td>\n",
              "      <td>NaN</td>\n",
              "      <td>NaN</td>\n",
              "      <td>NaN</td>\n",
              "      <td>NaN</td>\n",
              "      <td>NaN</td>\n",
              "      <td>NaN</td>\n",
              "      <td>NaN</td>\n",
              "      <td>NaN</td>\n",
              "      <td>NaN</td>\n",
              "      <td>NaN</td>\n",
              "    </tr>\n",
              "    <tr>\n",
              "      <th>1</th>\n",
              "      <td>1</td>\n",
              "      <td>1.0</td>\n",
              "      <td>0</td>\n",
              "      <td>29</td>\n",
              "      <td>14</td>\n",
              "      <td>10</td>\n",
              "      <td>1.0</td>\n",
              "      <td>-1.0</td>\n",
              "      <td>-1.0</td>\n",
              "      <td>1.0</td>\n",
              "      <td>...</td>\n",
              "      <td>NaN</td>\n",
              "      <td>NaN</td>\n",
              "      <td>NaN</td>\n",
              "      <td>NaN</td>\n",
              "      <td>NaN</td>\n",
              "      <td>NaN</td>\n",
              "      <td>NaN</td>\n",
              "      <td>NaN</td>\n",
              "      <td>NaN</td>\n",
              "      <td>NaN</td>\n",
              "    </tr>\n",
              "    <tr>\n",
              "      <th>2</th>\n",
              "      <td>2</td>\n",
              "      <td>1.0</td>\n",
              "      <td>5</td>\n",
              "      <td>88</td>\n",
              "      <td>58</td>\n",
              "      <td>15</td>\n",
              "      <td>1.0</td>\n",
              "      <td>-1.0</td>\n",
              "      <td>-1.0</td>\n",
              "      <td>1.0</td>\n",
              "      <td>...</td>\n",
              "      <td>NaN</td>\n",
              "      <td>NaN</td>\n",
              "      <td>NaN</td>\n",
              "      <td>NaN</td>\n",
              "      <td>NaN</td>\n",
              "      <td>NaN</td>\n",
              "      <td>NaN</td>\n",
              "      <td>NaN</td>\n",
              "      <td>NaN</td>\n",
              "      <td>NaN</td>\n",
              "    </tr>\n",
              "    <tr>\n",
              "      <th>3</th>\n",
              "      <td>4</td>\n",
              "      <td>1.0</td>\n",
              "      <td>0</td>\n",
              "      <td>31</td>\n",
              "      <td>13</td>\n",
              "      <td>16</td>\n",
              "      <td>1.0</td>\n",
              "      <td>-1.0</td>\n",
              "      <td>-1.0</td>\n",
              "      <td>1.0</td>\n",
              "      <td>...</td>\n",
              "      <td>NaN</td>\n",
              "      <td>NaN</td>\n",
              "      <td>NaN</td>\n",
              "      <td>NaN</td>\n",
              "      <td>NaN</td>\n",
              "      <td>NaN</td>\n",
              "      <td>NaN</td>\n",
              "      <td>NaN</td>\n",
              "      <td>NaN</td>\n",
              "      <td>NaN</td>\n",
              "    </tr>\n",
              "    <tr>\n",
              "      <th>4</th>\n",
              "      <td>5</td>\n",
              "      <td>1.0</td>\n",
              "      <td>0</td>\n",
              "      <td>11</td>\n",
              "      <td>0</td>\n",
              "      <td>0</td>\n",
              "      <td>0.0</td>\n",
              "      <td>0.0</td>\n",
              "      <td>0.0</td>\n",
              "      <td>0.0</td>\n",
              "      <td>...</td>\n",
              "      <td>NaN</td>\n",
              "      <td>NaN</td>\n",
              "      <td>NaN</td>\n",
              "      <td>NaN</td>\n",
              "      <td>NaN</td>\n",
              "      <td>NaN</td>\n",
              "      <td>NaN</td>\n",
              "      <td>NaN</td>\n",
              "      <td>NaN</td>\n",
              "      <td>NaN</td>\n",
              "    </tr>\n",
              "    <tr>\n",
              "      <th>...</th>\n",
              "      <td>...</td>\n",
              "      <td>...</td>\n",
              "      <td>...</td>\n",
              "      <td>...</td>\n",
              "      <td>...</td>\n",
              "      <td>...</td>\n",
              "      <td>...</td>\n",
              "      <td>...</td>\n",
              "      <td>...</td>\n",
              "      <td>...</td>\n",
              "      <td>...</td>\n",
              "      <td>...</td>\n",
              "      <td>...</td>\n",
              "      <td>...</td>\n",
              "      <td>...</td>\n",
              "      <td>...</td>\n",
              "      <td>...</td>\n",
              "      <td>...</td>\n",
              "      <td>...</td>\n",
              "      <td>...</td>\n",
              "      <td>...</td>\n",
              "    </tr>\n",
              "    <tr>\n",
              "      <th>1257</th>\n",
              "      <td>4537</td>\n",
              "      <td>1.0</td>\n",
              "      <td>0</td>\n",
              "      <td>18</td>\n",
              "      <td>10</td>\n",
              "      <td>8</td>\n",
              "      <td>NaN</td>\n",
              "      <td>NaN</td>\n",
              "      <td>NaN</td>\n",
              "      <td>NaN</td>\n",
              "      <td>...</td>\n",
              "      <td>NaN</td>\n",
              "      <td>NaN</td>\n",
              "      <td>NaN</td>\n",
              "      <td>NaN</td>\n",
              "      <td>NaN</td>\n",
              "      <td>NaN</td>\n",
              "      <td>NaN</td>\n",
              "      <td>NaN</td>\n",
              "      <td>NaN</td>\n",
              "      <td>NaN</td>\n",
              "    </tr>\n",
              "    <tr>\n",
              "      <th>1258</th>\n",
              "      <td>4579</td>\n",
              "      <td>1.0</td>\n",
              "      <td>0</td>\n",
              "      <td>7</td>\n",
              "      <td>6</td>\n",
              "      <td>0</td>\n",
              "      <td>NaN</td>\n",
              "      <td>NaN</td>\n",
              "      <td>NaN</td>\n",
              "      <td>NaN</td>\n",
              "      <td>...</td>\n",
              "      <td>NaN</td>\n",
              "      <td>NaN</td>\n",
              "      <td>NaN</td>\n",
              "      <td>NaN</td>\n",
              "      <td>NaN</td>\n",
              "      <td>NaN</td>\n",
              "      <td>NaN</td>\n",
              "      <td>NaN</td>\n",
              "      <td>NaN</td>\n",
              "      <td>NaN</td>\n",
              "    </tr>\n",
              "    <tr>\n",
              "      <th>1261</th>\n",
              "      <td>4661</td>\n",
              "      <td>1.0</td>\n",
              "      <td>0</td>\n",
              "      <td>18</td>\n",
              "      <td>5</td>\n",
              "      <td>0</td>\n",
              "      <td>NaN</td>\n",
              "      <td>NaN</td>\n",
              "      <td>NaN</td>\n",
              "      <td>NaN</td>\n",
              "      <td>...</td>\n",
              "      <td>NaN</td>\n",
              "      <td>NaN</td>\n",
              "      <td>NaN</td>\n",
              "      <td>NaN</td>\n",
              "      <td>NaN</td>\n",
              "      <td>NaN</td>\n",
              "      <td>NaN</td>\n",
              "      <td>NaN</td>\n",
              "      <td>NaN</td>\n",
              "      <td>NaN</td>\n",
              "    </tr>\n",
              "    <tr>\n",
              "      <th>1265</th>\n",
              "      <td>958</td>\n",
              "      <td>1.0</td>\n",
              "      <td>0</td>\n",
              "      <td>13</td>\n",
              "      <td>7</td>\n",
              "      <td>4</td>\n",
              "      <td>NaN</td>\n",
              "      <td>NaN</td>\n",
              "      <td>NaN</td>\n",
              "      <td>NaN</td>\n",
              "      <td>...</td>\n",
              "      <td>NaN</td>\n",
              "      <td>NaN</td>\n",
              "      <td>NaN</td>\n",
              "      <td>NaN</td>\n",
              "      <td>NaN</td>\n",
              "      <td>NaN</td>\n",
              "      <td>NaN</td>\n",
              "      <td>NaN</td>\n",
              "      <td>NaN</td>\n",
              "      <td>NaN</td>\n",
              "    </tr>\n",
              "    <tr>\n",
              "      <th>1266</th>\n",
              "      <td>982</td>\n",
              "      <td>0.0</td>\n",
              "      <td>0</td>\n",
              "      <td>11</td>\n",
              "      <td>8</td>\n",
              "      <td>3</td>\n",
              "      <td>NaN</td>\n",
              "      <td>NaN</td>\n",
              "      <td>NaN</td>\n",
              "      <td>NaN</td>\n",
              "      <td>...</td>\n",
              "      <td>NaN</td>\n",
              "      <td>NaN</td>\n",
              "      <td>NaN</td>\n",
              "      <td>NaN</td>\n",
              "      <td>NaN</td>\n",
              "      <td>NaN</td>\n",
              "      <td>NaN</td>\n",
              "      <td>NaN</td>\n",
              "      <td>NaN</td>\n",
              "      <td>NaN</td>\n",
              "    </tr>\n",
              "  </tbody>\n",
              "</table>\n",
              "<p>923 rows × 203 columns</p>\n",
              "</div>\n",
              "      <button class=\"colab-df-convert\" onclick=\"convertToInteractive('df-14c423f2-e449-4387-a6be-09d869bd0bdd')\"\n",
              "              title=\"Convert this dataframe to an interactive table.\"\n",
              "              style=\"display:none;\">\n",
              "        \n",
              "  <svg xmlns=\"http://www.w3.org/2000/svg\" height=\"24px\"viewBox=\"0 0 24 24\"\n",
              "       width=\"24px\">\n",
              "    <path d=\"M0 0h24v24H0V0z\" fill=\"none\"/>\n",
              "    <path d=\"M18.56 5.44l.94 2.06.94-2.06 2.06-.94-2.06-.94-.94-2.06-.94 2.06-2.06.94zm-11 1L8.5 8.5l.94-2.06 2.06-.94-2.06-.94L8.5 2.5l-.94 2.06-2.06.94zm10 10l.94 2.06.94-2.06 2.06-.94-2.06-.94-.94-2.06-.94 2.06-2.06.94z\"/><path d=\"M17.41 7.96l-1.37-1.37c-.4-.4-.92-.59-1.43-.59-.52 0-1.04.2-1.43.59L10.3 9.45l-7.72 7.72c-.78.78-.78 2.05 0 2.83L4 21.41c.39.39.9.59 1.41.59.51 0 1.02-.2 1.41-.59l7.78-7.78 2.81-2.81c.8-.78.8-2.07 0-2.86zM5.41 20L4 18.59l7.72-7.72 1.47 1.35L5.41 20z\"/>\n",
              "  </svg>\n",
              "      </button>\n",
              "      \n",
              "  <style>\n",
              "    .colab-df-container {\n",
              "      display:flex;\n",
              "      flex-wrap:wrap;\n",
              "      gap: 12px;\n",
              "    }\n",
              "\n",
              "    .colab-df-convert {\n",
              "      background-color: #E8F0FE;\n",
              "      border: none;\n",
              "      border-radius: 50%;\n",
              "      cursor: pointer;\n",
              "      display: none;\n",
              "      fill: #1967D2;\n",
              "      height: 32px;\n",
              "      padding: 0 0 0 0;\n",
              "      width: 32px;\n",
              "    }\n",
              "\n",
              "    .colab-df-convert:hover {\n",
              "      background-color: #E2EBFA;\n",
              "      box-shadow: 0px 1px 2px rgba(60, 64, 67, 0.3), 0px 1px 3px 1px rgba(60, 64, 67, 0.15);\n",
              "      fill: #174EA6;\n",
              "    }\n",
              "\n",
              "    [theme=dark] .colab-df-convert {\n",
              "      background-color: #3B4455;\n",
              "      fill: #D2E3FC;\n",
              "    }\n",
              "\n",
              "    [theme=dark] .colab-df-convert:hover {\n",
              "      background-color: #434B5C;\n",
              "      box-shadow: 0px 1px 3px 1px rgba(0, 0, 0, 0.15);\n",
              "      filter: drop-shadow(0px 1px 2px rgba(0, 0, 0, 0.3));\n",
              "      fill: #FFFFFF;\n",
              "    }\n",
              "  </style>\n",
              "\n",
              "      <script>\n",
              "        const buttonEl =\n",
              "          document.querySelector('#df-14c423f2-e449-4387-a6be-09d869bd0bdd button.colab-df-convert');\n",
              "        buttonEl.style.display =\n",
              "          google.colab.kernel.accessAllowed ? 'block' : 'none';\n",
              "\n",
              "        async function convertToInteractive(key) {\n",
              "          const element = document.querySelector('#df-14c423f2-e449-4387-a6be-09d869bd0bdd');\n",
              "          const dataTable =\n",
              "            await google.colab.kernel.invokeFunction('convertToInteractive',\n",
              "                                                     [key], {});\n",
              "          if (!dataTable) return;\n",
              "\n",
              "          const docLinkHtml = 'Like what you see? Visit the ' +\n",
              "            '<a target=\"_blank\" href=https://colab.research.google.com/notebooks/data_table.ipynb>data table notebook</a>'\n",
              "            + ' to learn more about interactive tables.';\n",
              "          element.innerHTML = '';\n",
              "          dataTable['output_type'] = 'display_data';\n",
              "          await google.colab.output.renderOutput(dataTable, element);\n",
              "          const docLink = document.createElement('div');\n",
              "          docLink.innerHTML = docLinkHtml;\n",
              "          element.appendChild(docLink);\n",
              "        }\n",
              "      </script>\n",
              "    </div>\n",
              "  </div>\n",
              "  "
            ]
          },
          "metadata": {},
          "execution_count": 97
        }
      ]
    },
    {
      "cell_type": "code",
      "source": [
        "\n",
        "coords, explained_variance = polis_pca(vals, 4)\n",
        "print(\"Explained variance:\", explained_variance)\n",
        "\n",
        "show_embedding(coords, \"blue\", \"Result of PCA\")\n",
        "\n",
        "grouped_embed = KMeans(n_clusters=2, random_state=0).fit(coords)\n",
        "labs = grouped_embed.labels_\n",
        "\n",
        "A_key = np.where(labs == 0 )[0]\n",
        "B_key = np.where(labs == 1 )[0]\n",
        "print(len(A_key), len(B_key))"
      ],
      "metadata": {
        "colab": {
          "base_uri": "https://localhost:8080/",
          "height": 373
        },
        "id": "wpJfLzKRgfXS",
        "outputId": "1f69969b-1e69-4815-aac1-da21de4d6d35"
      },
      "execution_count": 98,
      "outputs": [
        {
          "output_type": "stream",
          "name": "stdout",
          "text": [
            "Explained variance: [9.99995896e-01 8.52952198e-07 4.44645023e-07 1.09294062e-07]\n"
          ]
        },
        {
          "output_type": "display_data",
          "data": {
            "text/plain": [
              "<Figure size 504x360 with 1 Axes>"
            ],
            "image/png": "[encoded data removed]"
          },
          "metadata": {
            "needs_background": "light"
          }
        },
        {
          "output_type": "stream",
          "name": "stdout",
          "text": [
            "702 567\n"
          ]
        }
      ]
    },
    {
      "cell_type": "markdown",
      "source": [
        "## UMAP *Uniform manifold approximation and projection*\n",
        "\n",
        "Pros:\n",
        "- Non-linear reduction that is computationally faster than t-SNE\n",
        "- User defined parameter for preserving local or global structure \n",
        "- Solid theoretical foundations in manifold learning \n",
        "\n",
        "Cons:\n",
        "- New, less prevalent algorithm.\n",
        "- Requires setting hyperparameters that influence quality of the embedding \n",
        "- Non-deterministic algorithm. "
      ],
      "metadata": {
        "id": "gpbBXNKMaLXm"
      }
    },
    {
      "cell_type": "code",
      "source": [
        "def polis_umap(dataframe, neighbors):\n",
        "    reducer = umap.UMAP(\n",
        "        n_neighbors=neighbors,\n",
        "        metric=sparsity_aware_dist,\n",
        "        init='random',\n",
        "        min_dist=0.1,\n",
        "        spread=1.0,\n",
        "        local_connectivity=1.0,\n",
        "    )\n",
        "    embedding = reducer.fit_transform(dataframe.values)\n",
        "    # embedding.shape\n",
        "    \n",
        "    return embedding"
      ],
      "metadata": {
        "id": "CIKvHoRWABH8"
      },
      "execution_count": 99,
      "outputs": []
    },
    {
      "cell_type": "code",
      "source": [
        "embedding = polis_umap(vals, 10) \n",
        "show_embedding(embedding, \"black\", \"UMAP result w/ neighbors = 10\")\n",
        "\n",
        "embedding = polis_umap(vals, 5) \n",
        "show_embedding(embedding, \"black\", \"UMAP result w/ neighbors = 5\")\n"
      ],
      "metadata": {
        "id": "c34XgVYjAEgA",
        "colab": {
          "base_uri": "https://localhost:8080/",
          "height": 766
        },
        "outputId": "4129b5d3-bb13-42f2-efd9-92690c2b68ae"
      },
      "execution_count": 100,
      "outputs": [
        {
          "output_type": "stream",
          "name": "stderr",
          "text": [
            "/usr/local/lib/python3.8/dist-packages/umap/umap_.py:1772: UserWarning: custom distance metric does not return gradient; inverse_transform will be unavailable. To enable using inverse_transform method, define a distance function that returns a tuple of (distance [float], gradient [np.array])\n",
            "  warn(\n"
          ]
        },
        {
          "output_type": "display_data",
          "data": {
            "text/plain": [
              "<Figure size 504x360 with 1 Axes>"
            ],
            "image/png": "[encoded data removed]"
          },
          "metadata": {
            "needs_background": "light"
          }
        },
        {
          "output_type": "stream",
          "name": "stderr",
          "text": [
            "/usr/local/lib/python3.8/dist-packages/umap/umap_.py:1772: UserWarning: custom distance metric does not return gradient; inverse_transform will be unavailable. To enable using inverse_transform method, define a distance function that returns a tuple of (distance [float], gradient [np.array])\n",
            "  warn(\n"
          ]
        },
        {
          "output_type": "display_data",
          "data": {
            "text/plain": [
              "<Figure size 504x360 with 1 Axes>"
            ],
            "image/png": "[encoded data removed]"
          },
          "metadata": {
            "needs_background": "light"
          }
        },
        {
          "output_type": "execute_result",
          "data": {
            "text/plain": [
              "<module 'matplotlib.pyplot' from '/usr/local/lib/python3.8/dist-packages/matplotlib/pyplot.py'>"
            ]
          },
          "metadata": {},
          "execution_count": 100
        }
      ]
    },
    {
      "cell_type": "code",
      "source": [
        "embedding = polis_umap(vals, 8) \n",
        "show_embedding(embedding, \"black\", \"UMAP result w/ filtered data , neighbors = 8\")\n",
        "\n",
        "grouped_embed = KMeans(n_clusters=3\n",
        "                       , random_state=0).fit(embedding)\n",
        "labs = grouped_embed.labels_\n",
        "\n",
        "A_key = np.where(labs == 0 )[0]\n",
        "B_key = np.where(labs == 1 )[0]\n",
        "print(len(A_key), len(B_key))"
      ],
      "metadata": {
        "colab": {
          "base_uri": "https://localhost:8080/",
          "height": 410
        },
        "id": "0cqe4Rp_gkcY",
        "outputId": "3220733b-a24c-4640-ac85-2549035edc53"
      },
      "execution_count": 101,
      "outputs": [
        {
          "output_type": "stream",
          "name": "stderr",
          "text": [
            "/usr/local/lib/python3.8/dist-packages/umap/umap_.py:1772: UserWarning: custom distance metric does not return gradient; inverse_transform will be unavailable. To enable using inverse_transform method, define a distance function that returns a tuple of (distance [float], gradient [np.array])\n",
            "  warn(\n"
          ]
        },
        {
          "output_type": "display_data",
          "data": {
            "text/plain": [
              "<Figure size 504x360 with 1 Axes>"
            ],
            "image/png": "[encoded data removed]"
          },
          "metadata": {
            "needs_background": "light"
          }
        },
        {
          "output_type": "stream",
          "name": "stdout",
          "text": [
            "709 318\n"
          ]
        }
      ]
    },
    {
      "cell_type": "code",
      "source": [
        "embedding = polis_umap(vals_all_in, 8) \n",
        "show_embedding(embedding, \"black\", \"UMAP result w/ non-filtered data , neighbors = 8\")\n",
        "\n",
        "grouped_embed = KMeans(n_clusters=2, random_state=0).fit(embedding)\n",
        "labs = grouped_embed.labels_\n",
        "\n",
        "A_key = np.where(labs == 0 )[0]\n",
        "B_key = np.where(labs == 1 )[0]\n",
        "print(len(A_key), len(B_key))"
      ],
      "metadata": {
        "colab": {
          "base_uri": "https://localhost:8080/",
          "height": 410
        },
        "id": "xhrRKFOHAHFL",
        "outputId": "efa9dc52-974a-42fc-d85e-565ec847ebfd"
      },
      "execution_count": 102,
      "outputs": [
        {
          "output_type": "stream",
          "name": "stderr",
          "text": [
            "/usr/local/lib/python3.8/dist-packages/umap/umap_.py:1772: UserWarning: custom distance metric does not return gradient; inverse_transform will be unavailable. To enable using inverse_transform method, define a distance function that returns a tuple of (distance [float], gradient [np.array])\n",
            "  warn(\n"
          ]
        },
        {
          "output_type": "display_data",
          "data": {
            "text/plain": [
              "<Figure size 504x360 with 1 Axes>"
            ],
            "image/png": "[encoded data removed]"
          },
          "metadata": {
            "needs_background": "light"
          }
        },
        {
          "output_type": "stream",
          "name": "stdout",
          "text": [
            "710 559\n"
          ]
        }
      ]
    },
    {
      "cell_type": "markdown",
      "source": [
        "## time series "
      ],
      "metadata": {
        "id": "Ag6JxkVaK_7A"
      }
    },
    {
      "cell_type": "code",
      "source": [
        "df_comments.sort_values('datetime')"
      ],
      "metadata": {
        "colab": {
          "base_uri": "https://localhost:8080/",
          "height": 1000
        },
        "id": "SpnXRHKQ_5no",
        "outputId": "2f2c9c9e-0ce0-4351-97c4-f66d9906d91a"
      },
      "execution_count": 103,
      "outputs": [
        {
          "output_type": "execute_result",
          "data": {
            "text/plain": [
              "         timestamp            datetime  comment-id  author-id  agrees  \\\n",
              "167  1435654192077 2015-06-30 15:49:52           0          0     502   \n",
              "166  1435654296727 2015-06-30 15:51:36           3          0     555   \n",
              "172  1435654422024 2015-06-30 15:53:42           4          0     474   \n",
              "171  1435654449781 2015-06-30 15:54:09           5          0     385   \n",
              "170  1435654477147 2015-06-30 15:54:37           6          0     429   \n",
              "..             ...                 ...         ...        ...     ...   \n",
              "132  1440694221425 2015-08-27 23:50:21         170       3679      28   \n",
              "133  1440709992241 2015-08-28 04:13:12         171       3691      44   \n",
              "134  1440710706161 2015-08-28 04:25:06         172       3691      81   \n",
              "142  1440864144461 2015-08-29 23:02:24         173       3805      47   \n",
              "144  1440889629666 2015-08-30 06:07:09         174       3832      42   \n",
              "\n",
              "     disagrees  moderated                                       comment-body  \\\n",
              "167        187          1                                      我有用過 Uber 叫車。   \n",
              "166        152          1                                   我覺得尖峰時段可以彈性提高收費。   \n",
              "172        179          1                                 我覺得應該開放司機同時接受多家派遣。   \n",
              "171        245          1                                 我覺得主動取締白牌車是交通部的責任。   \n",
              "170        236          1                                 我覺得載客的車子上應該要有明確標示。   \n",
              "..         ...        ...                                                ...   \n",
              "132         42          1  以前是車行管司機，現在是車隊管司機。所以品牌車隊大家比較有信心搭乘，因為有在管理。現在車行不...   \n",
              "133         62          1          我覺得UBER避稅很正常，就如同你在申報所得稅時會選擇最低金額的申報方式一樣正常。   \n",
              "134         13          1  我覺得UBER與計程車車隊的評分系統最大差別是：UBER的評分系統公開透明且貫徹執行，分數低...   \n",
              "142         35          1  不應該限制計程車的車輛顏色外觀式樣內裝等等，再好的車噴成黃色很難看，圖利特定廠商而且造成購車...   \n",
              "144         31          1  我覺得Uber既然標榜共乘那就應該以共乘為主，而不是一堆都是職業司機，搞得跟小黃做一樣的生意...   \n",
              "\n",
              "                                            comment-en  \n",
              "167                    I have used Uber to call a car.  \n",
              "166  I think it can increase the charges elasticity...  \n",
              "172  I think the driver should be opened at the sam...  \n",
              "171  I think it is the responsibility of the Minist...  \n",
              "170  I think there should be clear marks on the car...  \n",
              "..                                                 ...  \n",
              "132  It used to be a driver of the car dealer, and ...  \n",
              "133  I think Uber avoidance is normal, just as you ...  \n",
              "134  I think the biggest difference between Uber an...  \n",
              "142  It should not be limited to the color appearan...  \n",
              "144  I think that since Uber advertised the common ...  \n",
              "\n",
              "[99 rows x 9 columns]"
            ],
            "text/html": [
              "\n",
              "  <div id=\"df-e998ec7c-48fd-44dd-8a90-fc1c629193fa\">\n",
              "    <div class=\"colab-df-container\">\n",
              "      <div>\n",
              "<style scoped>\n",
              "    .dataframe tbody tr th:only-of-type {\n",
              "        vertical-align: middle;\n",
              "    }\n",
              "\n",
              "    .dataframe tbody tr th {\n",
              "        vertical-align: top;\n",
              "    }\n",
              "\n",
              "    .dataframe thead th {\n",
              "        text-align: right;\n",
              "    }\n",
              "</style>\n",
              "<table border=\"1\" class=\"dataframe\">\n",
              "  <thead>\n",
              "    <tr style=\"text-align: right;\">\n",
              "      <th></th>\n",
              "      <th>timestamp</th>\n",
              "      <th>datetime</th>\n",
              "      <th>comment-id</th>\n",
              "      <th>author-id</th>\n",
              "      <th>agrees</th>\n",
              "      <th>disagrees</th>\n",
              "      <th>moderated</th>\n",
              "      <th>comment-body</th>\n",
              "      <th>comment-en</th>\n",
              "    </tr>\n",
              "  </thead>\n",
              "  <tbody>\n",
              "    <tr>\n",
              "      <th>167</th>\n",
              "      <td>1435654192077</td>\n",
              "      <td>2015-06-30 15:49:52</td>\n",
              "      <td>0</td>\n",
              "      <td>0</td>\n",
              "      <td>502</td>\n",
              "      <td>187</td>\n",
              "      <td>1</td>\n",
              "      <td>我有用過 Uber 叫車。</td>\n",
              "      <td>I have used Uber to call a car.</td>\n",
              "    </tr>\n",
              "    <tr>\n",
              "      <th>166</th>\n",
              "      <td>1435654296727</td>\n",
              "      <td>2015-06-30 15:51:36</td>\n",
              "      <td>3</td>\n",
              "      <td>0</td>\n",
              "      <td>555</td>\n",
              "      <td>152</td>\n",
              "      <td>1</td>\n",
              "      <td>我覺得尖峰時段可以彈性提高收費。</td>\n",
              "      <td>I think it can increase the charges elasticity...</td>\n",
              "    </tr>\n",
              "    <tr>\n",
              "      <th>172</th>\n",
              "      <td>1435654422024</td>\n",
              "      <td>2015-06-30 15:53:42</td>\n",
              "      <td>4</td>\n",
              "      <td>0</td>\n",
              "      <td>474</td>\n",
              "      <td>179</td>\n",
              "      <td>1</td>\n",
              "      <td>我覺得應該開放司機同時接受多家派遣。</td>\n",
              "      <td>I think the driver should be opened at the sam...</td>\n",
              "    </tr>\n",
              "    <tr>\n",
              "      <th>171</th>\n",
              "      <td>1435654449781</td>\n",
              "      <td>2015-06-30 15:54:09</td>\n",
              "      <td>5</td>\n",
              "      <td>0</td>\n",
              "      <td>385</td>\n",
              "      <td>245</td>\n",
              "      <td>1</td>\n",
              "      <td>我覺得主動取締白牌車是交通部的責任。</td>\n",
              "      <td>I think it is the responsibility of the Minist...</td>\n",
              "    </tr>\n",
              "    <tr>\n",
              "      <th>170</th>\n",
              "      <td>1435654477147</td>\n",
              "      <td>2015-06-30 15:54:37</td>\n",
              "      <td>6</td>\n",
              "      <td>0</td>\n",
              "      <td>429</td>\n",
              "      <td>236</td>\n",
              "      <td>1</td>\n",
              "      <td>我覺得載客的車子上應該要有明確標示。</td>\n",
              "      <td>I think there should be clear marks on the car...</td>\n",
              "    </tr>\n",
              "    <tr>\n",
              "      <th>...</th>\n",
              "      <td>...</td>\n",
              "      <td>...</td>\n",
              "      <td>...</td>\n",
              "      <td>...</td>\n",
              "      <td>...</td>\n",
              "      <td>...</td>\n",
              "      <td>...</td>\n",
              "      <td>...</td>\n",
              "      <td>...</td>\n",
              "    </tr>\n",
              "    <tr>\n",
              "      <th>132</th>\n",
              "      <td>1440694221425</td>\n",
              "      <td>2015-08-27 23:50:21</td>\n",
              "      <td>170</td>\n",
              "      <td>3679</td>\n",
              "      <td>28</td>\n",
              "      <td>42</td>\n",
              "      <td>1</td>\n",
              "      <td>以前是車行管司機，現在是車隊管司機。所以品牌車隊大家比較有信心搭乘，因為有在管理。現在車行不...</td>\n",
              "      <td>It used to be a driver of the car dealer, and ...</td>\n",
              "    </tr>\n",
              "    <tr>\n",
              "      <th>133</th>\n",
              "      <td>1440709992241</td>\n",
              "      <td>2015-08-28 04:13:12</td>\n",
              "      <td>171</td>\n",
              "      <td>3691</td>\n",
              "      <td>44</td>\n",
              "      <td>62</td>\n",
              "      <td>1</td>\n",
              "      <td>我覺得UBER避稅很正常，就如同你在申報所得稅時會選擇最低金額的申報方式一樣正常。</td>\n",
              "      <td>I think Uber avoidance is normal, just as you ...</td>\n",
              "    </tr>\n",
              "    <tr>\n",
              "      <th>134</th>\n",
              "      <td>1440710706161</td>\n",
              "      <td>2015-08-28 04:25:06</td>\n",
              "      <td>172</td>\n",
              "      <td>3691</td>\n",
              "      <td>81</td>\n",
              "      <td>13</td>\n",
              "      <td>1</td>\n",
              "      <td>我覺得UBER與計程車車隊的評分系統最大差別是：UBER的評分系統公開透明且貫徹執行，分數低...</td>\n",
              "      <td>I think the biggest difference between Uber an...</td>\n",
              "    </tr>\n",
              "    <tr>\n",
              "      <th>142</th>\n",
              "      <td>1440864144461</td>\n",
              "      <td>2015-08-29 23:02:24</td>\n",
              "      <td>173</td>\n",
              "      <td>3805</td>\n",
              "      <td>47</td>\n",
              "      <td>35</td>\n",
              "      <td>1</td>\n",
              "      <td>不應該限制計程車的車輛顏色外觀式樣內裝等等，再好的車噴成黃色很難看，圖利特定廠商而且造成購車...</td>\n",
              "      <td>It should not be limited to the color appearan...</td>\n",
              "    </tr>\n",
              "    <tr>\n",
              "      <th>144</th>\n",
              "      <td>1440889629666</td>\n",
              "      <td>2015-08-30 06:07:09</td>\n",
              "      <td>174</td>\n",
              "      <td>3832</td>\n",
              "      <td>42</td>\n",
              "      <td>31</td>\n",
              "      <td>1</td>\n",
              "      <td>我覺得Uber既然標榜共乘那就應該以共乘為主，而不是一堆都是職業司機，搞得跟小黃做一樣的生意...</td>\n",
              "      <td>I think that since Uber advertised the common ...</td>\n",
              "    </tr>\n",
              "  </tbody>\n",
              "</table>\n",
              "<p>99 rows × 9 columns</p>\n",
              "</div>\n",
              "      <button class=\"colab-df-convert\" onclick=\"convertToInteractive('df-e998ec7c-48fd-44dd-8a90-fc1c629193fa')\"\n",
              "              title=\"Convert this dataframe to an interactive table.\"\n",
              "              style=\"display:none;\">\n",
              "        \n",
              "  <svg xmlns=\"http://www.w3.org/2000/svg\" height=\"24px\"viewBox=\"0 0 24 24\"\n",
              "       width=\"24px\">\n",
              "    <path d=\"M0 0h24v24H0V0z\" fill=\"none\"/>\n",
              "    <path d=\"M18.56 5.44l.94 2.06.94-2.06 2.06-.94-2.06-.94-.94-2.06-.94 2.06-2.06.94zm-11 1L8.5 8.5l.94-2.06 2.06-.94-2.06-.94L8.5 2.5l-.94 2.06-2.06.94zm10 10l.94 2.06.94-2.06 2.06-.94-2.06-.94-.94-2.06-.94 2.06-2.06.94z\"/><path d=\"M17.41 7.96l-1.37-1.37c-.4-.4-.92-.59-1.43-.59-.52 0-1.04.2-1.43.59L10.3 9.45l-7.72 7.72c-.78.78-.78 2.05 0 2.83L4 21.41c.39.39.9.59 1.41.59.51 0 1.02-.2 1.41-.59l7.78-7.78 2.81-2.81c.8-.78.8-2.07 0-2.86zM5.41 20L4 18.59l7.72-7.72 1.47 1.35L5.41 20z\"/>\n",
              "  </svg>\n",
              "      </button>\n",
              "      \n",
              "  <style>\n",
              "    .colab-df-container {\n",
              "      display:flex;\n",
              "      flex-wrap:wrap;\n",
              "      gap: 12px;\n",
              "    }\n",
              "\n",
              "    .colab-df-convert {\n",
              "      background-color: #E8F0FE;\n",
              "      border: none;\n",
              "      border-radius: 50%;\n",
              "      cursor: pointer;\n",
              "      display: none;\n",
              "      fill: #1967D2;\n",
              "      height: 32px;\n",
              "      padding: 0 0 0 0;\n",
              "      width: 32px;\n",
              "    }\n",
              "\n",
              "    .colab-df-convert:hover {\n",
              "      background-color: #E2EBFA;\n",
              "      box-shadow: 0px 1px 2px rgba(60, 64, 67, 0.3), 0px 1px 3px 1px rgba(60, 64, 67, 0.15);\n",
              "      fill: #174EA6;\n",
              "    }\n",
              "\n",
              "    [theme=dark] .colab-df-convert {\n",
              "      background-color: #3B4455;\n",
              "      fill: #D2E3FC;\n",
              "    }\n",
              "\n",
              "    [theme=dark] .colab-df-convert:hover {\n",
              "      background-color: #434B5C;\n",
              "      box-shadow: 0px 1px 3px 1px rgba(0, 0, 0, 0.15);\n",
              "      filter: drop-shadow(0px 1px 2px rgba(0, 0, 0, 0.3));\n",
              "      fill: #FFFFFF;\n",
              "    }\n",
              "  </style>\n",
              "\n",
              "      <script>\n",
              "        const buttonEl =\n",
              "          document.querySelector('#df-e998ec7c-48fd-44dd-8a90-fc1c629193fa button.colab-df-convert');\n",
              "        buttonEl.style.display =\n",
              "          google.colab.kernel.accessAllowed ? 'block' : 'none';\n",
              "\n",
              "        async function convertToInteractive(key) {\n",
              "          const element = document.querySelector('#df-e998ec7c-48fd-44dd-8a90-fc1c629193fa');\n",
              "          const dataTable =\n",
              "            await google.colab.kernel.invokeFunction('convertToInteractive',\n",
              "                                                     [key], {});\n",
              "          if (!dataTable) return;\n",
              "\n",
              "          const docLinkHtml = 'Like what you see? Visit the ' +\n",
              "            '<a target=\"_blank\" href=https://colab.research.google.com/notebooks/data_table.ipynb>data table notebook</a>'\n",
              "            + ' to learn more about interactive tables.';\n",
              "          element.innerHTML = '';\n",
              "          dataTable['output_type'] = 'display_data';\n",
              "          await google.colab.output.renderOutput(dataTable, element);\n",
              "          const docLink = document.createElement('div');\n",
              "          docLink.innerHTML = docLinkHtml;\n",
              "          element.appendChild(docLink);\n",
              "        }\n",
              "      </script>\n",
              "    </div>\n",
              "  </div>\n",
              "  "
            ]
          },
          "metadata": {},
          "execution_count": 103
        }
      ]
    },
    {
      "cell_type": "code",
      "source": [
        "df_comments = df_comments.sort_values('datetime').reset_index(drop=True)\n",
        "first_cmt_time = df_comments.datetime[0]\n",
        "last_cmt_time = df_comments.datetime.iloc[-1]\n",
        "last_cmt_time - first_cmt_time"
      ],
      "metadata": {
        "colab": {
          "base_uri": "https://localhost:8080/"
        },
        "id": "rtfHzkv7rydk",
        "outputId": "bdae5a56-6938-4747-c7ae-7736887a1793"
      },
      "execution_count": 104,
      "outputs": [
        {
          "output_type": "execute_result",
          "data": {
            "text/plain": [
              "Timedelta('60 days 14:17:17')"
            ]
          },
          "metadata": {},
          "execution_count": 104
        }
      ]
    },
    {
      "cell_type": "code",
      "source": [
        "\n",
        "def get_time_limited_cmt_vals(begin_time, period ):\n",
        "\n",
        "    end_time = begin_time + pd.Timedelta(str(period) +\" days\")\n",
        "\n",
        "    cmd_idx = df_comments[(df_comments.datetime>=begin_time) & (df_comments.datetime<=end_time)][\"comment-id\"]\n",
        "    cmd_idx = list(cmd_idx.astype(str))\n",
        "\n",
        "    # use the intersection of vals_all_in's columns(filterd comment list) and time filtered comments\n",
        "    cmd_idx = [itm for itm in cmd_idx if itm in vals_all_in.columns]\n",
        "    \n",
        "    subset_vals = vals_all_in[cmd_idx]\n",
        "    subset_vals = subset_vals.loc[~(subset_vals==0).all(axis=1)]\n",
        "    \n",
        "    return subset_vals"
      ],
      "metadata": {
        "id": "3FcMdtMKrmwG"
      },
      "execution_count": 105,
      "outputs": []
    },
    {
      "cell_type": "code",
      "source": [
        "def first_Ndays_umap_graph(days, n=5, show=False):\n",
        "\n",
        "    subset_vals = get_time_limited_cmt_vals(first_cmt_time, days)\n",
        "    # print(subset_vals.shape)\n",
        "    embedding = polis_umap(subset_vals, n) \n",
        "    \n",
        "    if show:\n",
        "        show_embedding(embedding, \"black\", \"first \" +str(days) +\" days' UMAP, neighbors = \"+str(n))\n",
        "\n",
        "    return embedding"
      ],
      "metadata": {
        "id": "y2kWmD6JplCo"
      },
      "execution_count": 106,
      "outputs": []
    },
    {
      "cell_type": "markdown",
      "source": [
        "trail"
      ],
      "metadata": {
        "id": "17mk_WmRiIBo"
      }
    },
    {
      "cell_type": "code",
      "source": [
        "def dis_umap_graph(embeding):\n",
        "    \n",
        "    km = KMeans(n_clusters=2, random_state=3046).fit(embedding)\n",
        "    print(km.cluster_centers_[0], km.cluster_centers_[1])\n",
        "    dist = math.dist(km.cluster_centers_[0], km.cluster_centers_[1])\n",
        "    return dist"
      ],
      "metadata": {
        "id": "NrBOzF94vnNI"
      },
      "execution_count": 107,
      "outputs": []
    },
    {
      "cell_type": "code",
      "source": [
        "vals_all_in.to_numpy()"
      ],
      "metadata": {
        "colab": {
          "base_uri": "https://localhost:8080/"
        },
        "id": "t1VR43mSlz2v",
        "outputId": "5b31bc8b-2958-4337-b062-1144b455e2b8"
      },
      "execution_count": 108,
      "outputs": [
        {
          "output_type": "execute_result",
          "data": {
            "text/plain": [
              "array([[ 1.,  1.,  1., ...,  1., -1., -1.],\n",
              "       [ 1.,  1.,  1., ...,  0.,  0.,  0.],\n",
              "       [ 1.,  1.,  1., ...,  0.,  0.,  0.],\n",
              "       ...,\n",
              "       [ 0.,  0.,  0., ...,  0.,  0.,  0.],\n",
              "       [ 0.,  0.,  0., ...,  1.,  0.,  0.],\n",
              "       [ 0.,  0.,  0., ...,  1.,  0.,  0.]])"
            ]
          },
          "metadata": {},
          "execution_count": 108
        }
      ]
    },
    {
      "cell_type": "code",
      "source": [
        "for i in range(5):\n",
        "    # embedding = polis_umap(vals_all_in, 5) \n",
        "    # show_embedding(embedding, \"black\", \"UMAP, neighbors = 5\")\n",
        "\n",
        "    # grouped_embed = KMeans(n_clusters=2, random_state=0).fit(embedding)\n",
        "    # labs = grouped_embed.labels_\n",
        "    print(dis_umap_graph(vals_all_in.to_numpy()))"
      ],
      "metadata": {
        "colab": {
          "base_uri": "https://localhost:8080/"
        },
        "id": "7_bd4FvhAZL6",
        "outputId": "1ed83a89-e666-4dbd-af3a-3ab2c65d9df6"
      },
      "execution_count": 109,
      "outputs": [
        {
          "output_type": "stream",
          "name": "stdout",
          "text": [
            "[8.554736  4.0342617] [ 3.2004757 29.578444 ]\n",
            "26.099297499221134\n",
            "[8.554736  4.0342617] [ 3.2004757 29.578444 ]\n",
            "26.099297499221134\n",
            "[8.554736  4.0342617] [ 3.2004757 29.578444 ]\n",
            "26.099297499221134\n",
            "[8.554736  4.0342617] [ 3.2004757 29.578444 ]\n",
            "26.099297499221134\n",
            "[8.554736  4.0342617] [ 3.2004757 29.578444 ]\n",
            "26.099297499221134\n"
          ]
        }
      ]
    },
    {
      "cell_type": "code",
      "source": [
        "for i in range(15,75,15):\n",
        "    embedding = first_Ndays_umap_graph(i, 10, True)\n",
        "    # vals_subset = get_time_limited_cmt_vals(first_cmt_time, i)\n",
        "    # print(vals_subset.shape)\n",
        "    # print(dis_umap_graph(vals_subset.to_numpy()))"
      ],
      "metadata": {
        "colab": {
          "base_uri": "https://localhost:8080/",
          "height": 1000
        },
        "id": "3t7L9QUin_uT",
        "outputId": "7de45021-807c-4976-a71c-27393798272b"
      },
      "execution_count": 110,
      "outputs": [
        {
          "output_type": "stream",
          "name": "stdout",
          "text": [
            "(1165, 15)\n"
          ]
        },
        {
          "output_type": "stream",
          "name": "stderr",
          "text": [
            "/usr/local/lib/python3.8/dist-packages/umap/umap_.py:1772: UserWarning: custom distance metric does not return gradient; inverse_transform will be unavailable. To enable using inverse_transform method, define a distance function that returns a tuple of (distance [float], gradient [np.array])\n",
            "  warn(\n"
          ]
        },
        {
          "output_type": "display_data",
          "data": {
            "text/plain": [
              "<Figure size 504x360 with 1 Axes>"
            ],
            "image/png": "[encoded data removed]"
          },
          "metadata": {
            "needs_background": "light"
          }
        },
        {
          "output_type": "stream",
          "name": "stdout",
          "text": [
            "(1238, 76)\n"
          ]
        },
        {
          "output_type": "stream",
          "name": "stderr",
          "text": [
            "/usr/local/lib/python3.8/dist-packages/umap/umap_.py:1772: UserWarning: custom distance metric does not return gradient; inverse_transform will be unavailable. To enable using inverse_transform method, define a distance function that returns a tuple of (distance [float], gradient [np.array])\n",
            "  warn(\n"
          ]
        },
        {
          "output_type": "display_data",
          "data": {
            "text/plain": [
              "<Figure size 504x360 with 1 Axes>"
            ],
            "image/png": "[encoded data removed]"
          },
          "metadata": {
            "needs_background": "light"
          }
        },
        {
          "output_type": "stream",
          "name": "stdout",
          "text": [
            "(1239, 80)\n"
          ]
        },
        {
          "output_type": "stream",
          "name": "stderr",
          "text": [
            "/usr/local/lib/python3.8/dist-packages/umap/umap_.py:1772: UserWarning: custom distance metric does not return gradient; inverse_transform will be unavailable. To enable using inverse_transform method, define a distance function that returns a tuple of (distance [float], gradient [np.array])\n",
            "  warn(\n"
          ]
        },
        {
          "output_type": "display_data",
          "data": {
            "text/plain": [
              "<Figure size 504x360 with 1 Axes>"
            ],
            "image/png": "[encoded data removed]"
          },
          "metadata": {
            "needs_background": "light"
          }
        },
        {
          "output_type": "stream",
          "name": "stdout",
          "text": [
            "(1242, 97)\n"
          ]
        },
        {
          "output_type": "stream",
          "name": "stderr",
          "text": [
            "/usr/local/lib/python3.8/dist-packages/umap/umap_.py:1772: UserWarning: custom distance metric does not return gradient; inverse_transform will be unavailable. To enable using inverse_transform method, define a distance function that returns a tuple of (distance [float], gradient [np.array])\n",
            "  warn(\n"
          ]
        },
        {
          "output_type": "display_data",
          "data": {
            "text/plain": [
              "<Figure size 504x360 with 1 Axes>"
            ],
            "image/png": "[encoded data removed]"
          },
          "metadata": {
            "needs_background": "light"
          }
        }
      ]
    },
    {
      "cell_type": "markdown",
      "source": [
        "## show grouped df"
      ],
      "metadata": {
        "id": "GLjIduWUjHxc"
      }
    },
    {
      "cell_type": "markdown",
      "source": [
        "用kmeans cluster 的結果去回抓哪些位置的直在不同組，在透過那些組回去vals_all_in df 找到他們的在主要df 的index在拿到他們的participant_id"
      ],
      "metadata": {
        "id": "pmW-bZ_T_ooE"
      }
    },
    {
      "cell_type": "code",
      "source": [
        "A_key = np.where(grouped_embed.labels_ == 0 )[0]\n",
        "B_key = np.where(grouped_embed.labels_ == 1 )[0]\n",
        "A_idx = np.take(vals_all_in.index.to_numpy(), A_key)\n",
        "B_idx = np.take(vals_all_in.index.to_numpy(), B_key)\n",
        "A_participants = df.filter(items = A_idx, axis=0)\n",
        "B_participants = df.filter(items = B_idx, axis=0)"
      ],
      "metadata": {
        "id": "DM3kGhjzFXhU"
      },
      "execution_count": 111,
      "outputs": []
    },
    {
      "cell_type": "code",
      "source": [
        "# get the vote rate, agree rate, disagree rate of opinion group A and B on each commment \n",
        "# https://sheethub.com/au/participants-votes-with-group-id.csv#detail: According to the source, \"-1\" represents agree, \"1\" represents disagree, \"0\" represents skip\n",
        "\n",
        "metadata_fields = ['participant', 'group-id', 'n-comments', \n",
        "                   'n-votes', 'n-agree','n-disagree']\n",
        "val_fields = [c for c in A_participants.columns.values if c not in metadata_fields]\n",
        "A_participants_val = A_participants[val_fields]\n",
        "A_participants_val_T = A_participants_val.transpose()\n",
        "# print(A_participants_val_T.value_counts())\n",
        "# A_participants_val_T['a_agree'] = \n",
        "# A_participants_val_T['a_disagree'] = \n",
        "# A_vote\n",
        "\n",
        "# df['Sum']=df.iloc[:,1:3].sum(axis=1)"
      ],
      "metadata": {
        "id": "dvWAXrGCT3kb"
      },
      "execution_count": 112,
      "outputs": []
    },
    {
      "cell_type": "code",
      "source": [
        "\n",
        "A_participants_val_T['a_disagree'] = np.count_nonzero(A_participants_val_T.to_numpy() == -1, axis=1)\n",
        "A_participants_val_T['a_agree'] = np.count_nonzero(A_participants_val_T.to_numpy() == 1, axis=1)"
      ],
      "metadata": {
        "id": "zlJps6jNQo3l"
      },
      "execution_count": 113,
      "outputs": []
    },
    {
      "cell_type": "code",
      "source": [
        "A_participants_val_T['a_support']= (A_participants_val_T['a_agree']-A_participants_val_T['a_disagree'])\n",
        "A_participants_val_T['a_support_share']= (A_participants_val_T['a_agree']-A_participants_val_T['a_disagree'])/(A_participants_val_T['a_agree']+A_participants_val_T['a_disagree'])\n",
        "A_support_arguments = A_participants_val_T.sort_values(by=['a_support'], ascending=False).head(10)\n",
        "A_against_arguments = A_participants_val_T.sort_values(by=['a_support']).head(10)"
      ],
      "metadata": {
        "id": "uhvtfcESjBcs"
      },
      "execution_count": 114,
      "outputs": []
    },
    {
      "cell_type": "code",
      "source": [
        "A_participants_val_T = A_participants_val_T.reset_index()\n",
        "A_participants_val_T1 = A_participants_val_T[[\"index\",\"a_disagree\",\"a_agree\",\"a_support_share\",\"a_support\"]]"
      ],
      "metadata": {
        "id": "3D7OYky9ljiF"
      },
      "execution_count": 115,
      "outputs": []
    },
    {
      "cell_type": "code",
      "source": [
        "B_participants_val = B_participants[val_fields]\n",
        "B_participants_val_T = B_participants_val.transpose()\n",
        "B_participants_val_T['b_disagree'] = np.count_nonzero(B_participants_val_T.to_numpy() == -1, axis=1)\n",
        "B_participants_val_T['b_agree'] = np.count_nonzero(B_participants_val_T.to_numpy() == 1, axis=1)\n"
      ],
      "metadata": {
        "id": "-iM6-OxmQtIA"
      },
      "execution_count": 116,
      "outputs": []
    },
    {
      "cell_type": "code",
      "source": [
        "B_participants_val_T = B_participants_val_T.reset_index()\n",
        "B_participants_val_T['b_support']= (B_participants_val_T['b_agree']-B_participants_val_T['b_disagree'])\n",
        "B_participants_val_T['b_support_share']= (B_participants_val_T['b_agree']-B_participants_val_T['b_disagree'])/(B_participants_val_T['b_agree']+B_participants_val_T['b_disagree'])\n",
        "B_support_arguments = B_participants_val_T.sort_values(by=['b_support'], ascending=False).head(10)\n",
        "B_against_arguments = B_participants_val_T.sort_values(by=['b_support']).head(10)\n",
        "B_participants_val_T1= B_participants_val_T[[\"index\",\"b_disagree\",\"b_agree\",\"b_support_share\",\"b_support\"]]\n"
      ],
      "metadata": {
        "id": "GWb1j97mmwlH"
      },
      "execution_count": 117,
      "outputs": []
    },
    {
      "cell_type": "code",
      "source": [
        "joint_participants_val_T1 = A_participants_val_T1.merge(B_participants_val_T1, on = \"index\")\n",
        "joint_participants_val_T1['difference']=joint_participants_val_T1['a_support']-joint_participants_val_T1['b_support']\n",
        "joint_participants_val_T1['difference_pct']=joint_participants_val_T1['a_support_share']-joint_participants_val_T1['b_support_share']\n",
        "\n",
        "joint_participants_val_T1_filtered = joint_participants_val_T1[joint_participants_val_T1['a_agree']+joint_participants_val_T1['a_disagree'] >= 5]\n",
        "joint_participants_val_T1_filtered = joint_participants_val_T1[joint_participants_val_T1['b_agree']+joint_participants_val_T1['b_disagree'] >= 5]\n",
        "\n",
        "dispute_arguments = joint_participants_val_T1_filtered.sort_values(by=['difference'], ascending=False, key = abs).head(5)\n",
        "consensus_arguments = joint_participants_val_T1_filtered.sort_values(by=['difference'], ascending=True, key = abs).head(5)\n",
        "\n",
        "dispute_arguments_1 = joint_participants_val_T1_filtered.sort_values(by=['difference_pct'], ascending=False, key = abs).head(5)\n",
        "consensus_arguments_1 = joint_participants_val_T1_filtered.sort_values(by=['difference_pct'], ascending=True, key = abs).head(5)"
      ],
      "metadata": {
        "id": "vtzEsBLbm8pd"
      },
      "execution_count": 118,
      "outputs": []
    },
    {
      "cell_type": "code",
      "source": [
        "dispute_arguments_df = dispute_arguments.merge(df_comments, left_index = True, right_on = 'comment-id', how = 'left')"
      ],
      "metadata": {
        "id": "N677nzsKoZ9O"
      },
      "execution_count": 119,
      "outputs": []
    },
    {
      "cell_type": "code",
      "source": [
        "dispute_arguments_df[[\"comment-id\", \"author-id\", \"a_agree\", \"a_disagree\", \"a_support_share\", \"b_agree\", \"b_disagree\", \"b_support_share\", \"comment-body\"]]"
      ],
      "metadata": {
        "id": "tFSnCZng0TW5",
        "colab": {
          "base_uri": "https://localhost:8080/",
          "height": 545
        },
        "outputId": "d4868aab-f004-42c8-ab27-a46bfdd04992"
      },
      "execution_count": 120,
      "outputs": [
        {
          "output_type": "execute_result",
          "data": {
            "text/plain": [
              "    comment-id  author-id  a_agree  a_disagree  a_support_share  b_agree  \\\n",
              "13          16          0      266          18         0.873239      398   \n",
              "0            0          0      169          70         0.414226      312   \n",
              "11          14          0      199          32         0.722944      324   \n",
              "7            9          0      206          54         0.584615      309   \n",
              "12          15          0      101         123        -0.098214      125   \n",
              "\n",
              "    b_disagree  b_support_share                    comment-body  \n",
              "13          14         0.932039  我覺得 UberX 自用車載客時，應該要投保汽車乘客責任險。  \n",
              "0          113         0.468235                   我有用過 Uber 叫車。  \n",
              "11          61         0.683117                      我有小型車駕駛執照。  \n",
              "7           63         0.661290      我覺得 Uber 平台的爭端解決紀錄應呈報給交通部。  \n",
              "12         241        -0.316940                         我有職業駕照。  "
            ],
            "text/html": [
              "\n",
              "  <div id=\"df-a86ffb68-9632-4916-a38c-64a98942132a\">\n",
              "    <div class=\"colab-df-container\">\n",
              "      <div>\n",
              "<style scoped>\n",
              "    .dataframe tbody tr th:only-of-type {\n",
              "        vertical-align: middle;\n",
              "    }\n",
              "\n",
              "    .dataframe tbody tr th {\n",
              "        vertical-align: top;\n",
              "    }\n",
              "\n",
              "    .dataframe thead th {\n",
              "        text-align: right;\n",
              "    }\n",
              "</style>\n",
              "<table border=\"1\" class=\"dataframe\">\n",
              "  <thead>\n",
              "    <tr style=\"text-align: right;\">\n",
              "      <th></th>\n",
              "      <th>comment-id</th>\n",
              "      <th>author-id</th>\n",
              "      <th>a_agree</th>\n",
              "      <th>a_disagree</th>\n",
              "      <th>a_support_share</th>\n",
              "      <th>b_agree</th>\n",
              "      <th>b_disagree</th>\n",
              "      <th>b_support_share</th>\n",
              "      <th>comment-body</th>\n",
              "    </tr>\n",
              "  </thead>\n",
              "  <tbody>\n",
              "    <tr>\n",
              "      <th>13</th>\n",
              "      <td>16</td>\n",
              "      <td>0</td>\n",
              "      <td>266</td>\n",
              "      <td>18</td>\n",
              "      <td>0.873239</td>\n",
              "      <td>398</td>\n",
              "      <td>14</td>\n",
              "      <td>0.932039</td>\n",
              "      <td>我覺得 UberX 自用車載客時，應該要投保汽車乘客責任險。</td>\n",
              "    </tr>\n",
              "    <tr>\n",
              "      <th>0</th>\n",
              "      <td>0</td>\n",
              "      <td>0</td>\n",
              "      <td>169</td>\n",
              "      <td>70</td>\n",
              "      <td>0.414226</td>\n",
              "      <td>312</td>\n",
              "      <td>113</td>\n",
              "      <td>0.468235</td>\n",
              "      <td>我有用過 Uber 叫車。</td>\n",
              "    </tr>\n",
              "    <tr>\n",
              "      <th>11</th>\n",
              "      <td>14</td>\n",
              "      <td>0</td>\n",
              "      <td>199</td>\n",
              "      <td>32</td>\n",
              "      <td>0.722944</td>\n",
              "      <td>324</td>\n",
              "      <td>61</td>\n",
              "      <td>0.683117</td>\n",
              "      <td>我有小型車駕駛執照。</td>\n",
              "    </tr>\n",
              "    <tr>\n",
              "      <th>7</th>\n",
              "      <td>9</td>\n",
              "      <td>0</td>\n",
              "      <td>206</td>\n",
              "      <td>54</td>\n",
              "      <td>0.584615</td>\n",
              "      <td>309</td>\n",
              "      <td>63</td>\n",
              "      <td>0.661290</td>\n",
              "      <td>我覺得 Uber 平台的爭端解決紀錄應呈報給交通部。</td>\n",
              "    </tr>\n",
              "    <tr>\n",
              "      <th>12</th>\n",
              "      <td>15</td>\n",
              "      <td>0</td>\n",
              "      <td>101</td>\n",
              "      <td>123</td>\n",
              "      <td>-0.098214</td>\n",
              "      <td>125</td>\n",
              "      <td>241</td>\n",
              "      <td>-0.316940</td>\n",
              "      <td>我有職業駕照。</td>\n",
              "    </tr>\n",
              "  </tbody>\n",
              "</table>\n",
              "</div>\n",
              "      <button class=\"colab-df-convert\" onclick=\"convertToInteractive('df-a86ffb68-9632-4916-a38c-64a98942132a')\"\n",
              "              title=\"Convert this dataframe to an interactive table.\"\n",
              "              style=\"display:none;\">\n",
              "        \n",
              "  <svg xmlns=\"http://www.w3.org/2000/svg\" height=\"24px\"viewBox=\"0 0 24 24\"\n",
              "       width=\"24px\">\n",
              "    <path d=\"M0 0h24v24H0V0z\" fill=\"none\"/>\n",
              "    <path d=\"M18.56 5.44l.94 2.06.94-2.06 2.06-.94-2.06-.94-.94-2.06-.94 2.06-2.06.94zm-11 1L8.5 8.5l.94-2.06 2.06-.94-2.06-.94L8.5 2.5l-.94 2.06-2.06.94zm10 10l.94 2.06.94-2.06 2.06-.94-2.06-.94-.94-2.06-.94 2.06-2.06.94z\"/><path d=\"M17.41 7.96l-1.37-1.37c-.4-.4-.92-.59-1.43-.59-.52 0-1.04.2-1.43.59L10.3 9.45l-7.72 7.72c-.78.78-.78 2.05 0 2.83L4 21.41c.39.39.9.59 1.41.59.51 0 1.02-.2 1.41-.59l7.78-7.78 2.81-2.81c.8-.78.8-2.07 0-2.86zM5.41 20L4 18.59l7.72-7.72 1.47 1.35L5.41 20z\"/>\n",
              "  </svg>\n",
              "      </button>\n",
              "      \n",
              "  <style>\n",
              "    .colab-df-container {\n",
              "      display:flex;\n",
              "      flex-wrap:wrap;\n",
              "      gap: 12px;\n",
              "    }\n",
              "\n",
              "    .colab-df-convert {\n",
              "      background-color: #E8F0FE;\n",
              "      border: none;\n",
              "      border-radius: 50%;\n",
              "      cursor: pointer;\n",
              "      display: none;\n",
              "      fill: #1967D2;\n",
              "      height: 32px;\n",
              "      padding: 0 0 0 0;\n",
              "      width: 32px;\n",
              "    }\n",
              "\n",
              "    .colab-df-convert:hover {\n",
              "      background-color: #E2EBFA;\n",
              "      box-shadow: 0px 1px 2px rgba(60, 64, 67, 0.3), 0px 1px 3px 1px rgba(60, 64, 67, 0.15);\n",
              "      fill: #174EA6;\n",
              "    }\n",
              "\n",
              "    [theme=dark] .colab-df-convert {\n",
              "      background-color: #3B4455;\n",
              "      fill: #D2E3FC;\n",
              "    }\n",
              "\n",
              "    [theme=dark] .colab-df-convert:hover {\n",
              "      background-color: #434B5C;\n",
              "      box-shadow: 0px 1px 3px 1px rgba(0, 0, 0, 0.15);\n",
              "      filter: drop-shadow(0px 1px 2px rgba(0, 0, 0, 0.3));\n",
              "      fill: #FFFFFF;\n",
              "    }\n",
              "  </style>\n",
              "\n",
              "      <script>\n",
              "        const buttonEl =\n",
              "          document.querySelector('#df-a86ffb68-9632-4916-a38c-64a98942132a button.colab-df-convert');\n",
              "        buttonEl.style.display =\n",
              "          google.colab.kernel.accessAllowed ? 'block' : 'none';\n",
              "\n",
              "        async function convertToInteractive(key) {\n",
              "          const element = document.querySelector('#df-a86ffb68-9632-4916-a38c-64a98942132a');\n",
              "          const dataTable =\n",
              "            await google.colab.kernel.invokeFunction('convertToInteractive',\n",
              "                                                     [key], {});\n",
              "          if (!dataTable) return;\n",
              "\n",
              "          const docLinkHtml = 'Like what you see? Visit the ' +\n",
              "            '<a target=\"_blank\" href=https://colab.research.google.com/notebooks/data_table.ipynb>data table notebook</a>'\n",
              "            + ' to learn more about interactive tables.';\n",
              "          element.innerHTML = '';\n",
              "          dataTable['output_type'] = 'display_data';\n",
              "          await google.colab.output.renderOutput(dataTable, element);\n",
              "          const docLink = document.createElement('div');\n",
              "          docLink.innerHTML = docLinkHtml;\n",
              "          element.appendChild(docLink);\n",
              "        }\n",
              "      </script>\n",
              "    </div>\n",
              "  </div>\n",
              "  "
            ]
          },
          "metadata": {},
          "execution_count": 120
        }
      ]
    },
    {
      "cell_type": "code",
      "source": [
        "dispute_arguments_1_df = dispute_arguments_1.merge(df_comments, left_index = True, right_on = 'comment-id', how = 'left')"
      ],
      "metadata": {
        "id": "nVb0HG4A7T-P"
      },
      "execution_count": 121,
      "outputs": []
    },
    {
      "cell_type": "code",
      "source": [
        "dispute_arguments_1_df[[\"comment-id\", \"author-id\", \"a_agree\", \"a_disagree\", \"a_support_share\", \"b_agree\", \"b_disagree\", \"b_support_share\", \"comment-body\"]]"
      ],
      "metadata": {
        "id": "MUxeBi7n1hxa",
        "colab": {
          "base_uri": "https://localhost:8080/",
          "height": 773
        },
        "outputId": "e041d390-4e7b-458b-d93f-548bb120195b"
      },
      "execution_count": 122,
      "outputs": [
        {
          "output_type": "execute_result",
          "data": {
            "text/plain": [
              "      comment-id  author-id  a_agree  a_disagree  a_support_share  b_agree  \\\n",
              "NaN            2        NaN        2           2         0.000000        0   \n",
              "NaN            1        NaN        1           2        -0.333333        0   \n",
              "94.0         170     3679.0       15          12         0.111111        8   \n",
              "90.0         162     1065.0       16           6         0.454545       16   \n",
              "95.0         171     3691.0       19          33        -0.269231       19   \n",
              "\n",
              "      b_disagree  b_support_share  \\\n",
              "NaN            5        -1.000000   \n",
              "NaN            5        -1.000000   \n",
              "94.0          23        -0.483871   \n",
              "90.0          12         0.142857   \n",
              "95.0          19         0.000000   \n",
              "\n",
              "                                           comment-body  \n",
              "NaN                                                 NaN  \n",
              "NaN                                                 NaN  \n",
              "94.0  以前是車行管司機，現在是車隊管司機。所以品牌車隊大家比較有信心搭乘，因為有在管理。現在車行不...  \n",
              "90.0             就駕駛而言，計程車司機的收入比uber好，uber司機收入是計程車車資六成。  \n",
              "95.0          我覺得UBER避稅很正常，就如同你在申報所得稅時會選擇最低金額的申報方式一樣正常。  "
            ],
            "text/html": [
              "\n",
              "  <div id=\"df-2b2579fa-6676-4539-8496-44e2d1d458c6\">\n",
              "    <div class=\"colab-df-container\">\n",
              "      <div>\n",
              "<style scoped>\n",
              "    .dataframe tbody tr th:only-of-type {\n",
              "        vertical-align: middle;\n",
              "    }\n",
              "\n",
              "    .dataframe tbody tr th {\n",
              "        vertical-align: top;\n",
              "    }\n",
              "\n",
              "    .dataframe thead th {\n",
              "        text-align: right;\n",
              "    }\n",
              "</style>\n",
              "<table border=\"1\" class=\"dataframe\">\n",
              "  <thead>\n",
              "    <tr style=\"text-align: right;\">\n",
              "      <th></th>\n",
              "      <th>comment-id</th>\n",
              "      <th>author-id</th>\n",
              "      <th>a_agree</th>\n",
              "      <th>a_disagree</th>\n",
              "      <th>a_support_share</th>\n",
              "      <th>b_agree</th>\n",
              "      <th>b_disagree</th>\n",
              "      <th>b_support_share</th>\n",
              "      <th>comment-body</th>\n",
              "    </tr>\n",
              "  </thead>\n",
              "  <tbody>\n",
              "    <tr>\n",
              "      <th>NaN</th>\n",
              "      <td>2</td>\n",
              "      <td>NaN</td>\n",
              "      <td>2</td>\n",
              "      <td>2</td>\n",
              "      <td>0.000000</td>\n",
              "      <td>0</td>\n",
              "      <td>5</td>\n",
              "      <td>-1.000000</td>\n",
              "      <td>NaN</td>\n",
              "    </tr>\n",
              "    <tr>\n",
              "      <th>NaN</th>\n",
              "      <td>1</td>\n",
              "      <td>NaN</td>\n",
              "      <td>1</td>\n",
              "      <td>2</td>\n",
              "      <td>-0.333333</td>\n",
              "      <td>0</td>\n",
              "      <td>5</td>\n",
              "      <td>-1.000000</td>\n",
              "      <td>NaN</td>\n",
              "    </tr>\n",
              "    <tr>\n",
              "      <th>94.0</th>\n",
              "      <td>170</td>\n",
              "      <td>3679.0</td>\n",
              "      <td>15</td>\n",
              "      <td>12</td>\n",
              "      <td>0.111111</td>\n",
              "      <td>8</td>\n",
              "      <td>23</td>\n",
              "      <td>-0.483871</td>\n",
              "      <td>以前是車行管司機，現在是車隊管司機。所以品牌車隊大家比較有信心搭乘，因為有在管理。現在車行不...</td>\n",
              "    </tr>\n",
              "    <tr>\n",
              "      <th>90.0</th>\n",
              "      <td>162</td>\n",
              "      <td>1065.0</td>\n",
              "      <td>16</td>\n",
              "      <td>6</td>\n",
              "      <td>0.454545</td>\n",
              "      <td>16</td>\n",
              "      <td>12</td>\n",
              "      <td>0.142857</td>\n",
              "      <td>就駕駛而言，計程車司機的收入比uber好，uber司機收入是計程車車資六成。</td>\n",
              "    </tr>\n",
              "    <tr>\n",
              "      <th>95.0</th>\n",
              "      <td>171</td>\n",
              "      <td>3691.0</td>\n",
              "      <td>19</td>\n",
              "      <td>33</td>\n",
              "      <td>-0.269231</td>\n",
              "      <td>19</td>\n",
              "      <td>19</td>\n",
              "      <td>0.000000</td>\n",
              "      <td>我覺得UBER避稅很正常，就如同你在申報所得稅時會選擇最低金額的申報方式一樣正常。</td>\n",
              "    </tr>\n",
              "  </tbody>\n",
              "</table>\n",
              "</div>\n",
              "      <button class=\"colab-df-convert\" onclick=\"convertToInteractive('df-2b2579fa-6676-4539-8496-44e2d1d458c6')\"\n",
              "              title=\"Convert this dataframe to an interactive table.\"\n",
              "              style=\"display:none;\">\n",
              "        \n",
              "  <svg xmlns=\"http://www.w3.org/2000/svg\" height=\"24px\"viewBox=\"0 0 24 24\"\n",
              "       width=\"24px\">\n",
              "    <path d=\"M0 0h24v24H0V0z\" fill=\"none\"/>\n",
              "    <path d=\"M18.56 5.44l.94 2.06.94-2.06 2.06-.94-2.06-.94-.94-2.06-.94 2.06-2.06.94zm-11 1L8.5 8.5l.94-2.06 2.06-.94-2.06-.94L8.5 2.5l-.94 2.06-2.06.94zm10 10l.94 2.06.94-2.06 2.06-.94-2.06-.94-.94-2.06-.94 2.06-2.06.94z\"/><path d=\"M17.41 7.96l-1.37-1.37c-.4-.4-.92-.59-1.43-.59-.52 0-1.04.2-1.43.59L10.3 9.45l-7.72 7.72c-.78.78-.78 2.05 0 2.83L4 21.41c.39.39.9.59 1.41.59.51 0 1.02-.2 1.41-.59l7.78-7.78 2.81-2.81c.8-.78.8-2.07 0-2.86zM5.41 20L4 18.59l7.72-7.72 1.47 1.35L5.41 20z\"/>\n",
              "  </svg>\n",
              "      </button>\n",
              "      \n",
              "  <style>\n",
              "    .colab-df-container {\n",
              "      display:flex;\n",
              "      flex-wrap:wrap;\n",
              "      gap: 12px;\n",
              "    }\n",
              "\n",
              "    .colab-df-convert {\n",
              "      background-color: #E8F0FE;\n",
              "      border: none;\n",
              "      border-radius: 50%;\n",
              "      cursor: pointer;\n",
              "      display: none;\n",
              "      fill: #1967D2;\n",
              "      height: 32px;\n",
              "      padding: 0 0 0 0;\n",
              "      width: 32px;\n",
              "    }\n",
              "\n",
              "    .colab-df-convert:hover {\n",
              "      background-color: #E2EBFA;\n",
              "      box-shadow: 0px 1px 2px rgba(60, 64, 67, 0.3), 0px 1px 3px 1px rgba(60, 64, 67, 0.15);\n",
              "      fill: #174EA6;\n",
              "    }\n",
              "\n",
              "    [theme=dark] .colab-df-convert {\n",
              "      background-color: #3B4455;\n",
              "      fill: #D2E3FC;\n",
              "    }\n",
              "\n",
              "    [theme=dark] .colab-df-convert:hover {\n",
              "      background-color: #434B5C;\n",
              "      box-shadow: 0px 1px 3px 1px rgba(0, 0, 0, 0.15);\n",
              "      filter: drop-shadow(0px 1px 2px rgba(0, 0, 0, 0.3));\n",
              "      fill: #FFFFFF;\n",
              "    }\n",
              "  </style>\n",
              "\n",
              "      <script>\n",
              "        const buttonEl =\n",
              "          document.querySelector('#df-2b2579fa-6676-4539-8496-44e2d1d458c6 button.colab-df-convert');\n",
              "        buttonEl.style.display =\n",
              "          google.colab.kernel.accessAllowed ? 'block' : 'none';\n",
              "\n",
              "        async function convertToInteractive(key) {\n",
              "          const element = document.querySelector('#df-2b2579fa-6676-4539-8496-44e2d1d458c6');\n",
              "          const dataTable =\n",
              "            await google.colab.kernel.invokeFunction('convertToInteractive',\n",
              "                                                     [key], {});\n",
              "          if (!dataTable) return;\n",
              "\n",
              "          const docLinkHtml = 'Like what you see? Visit the ' +\n",
              "            '<a target=\"_blank\" href=https://colab.research.google.com/notebooks/data_table.ipynb>data table notebook</a>'\n",
              "            + ' to learn more about interactive tables.';\n",
              "          element.innerHTML = '';\n",
              "          dataTable['output_type'] = 'display_data';\n",
              "          await google.colab.output.renderOutput(dataTable, element);\n",
              "          const docLink = document.createElement('div');\n",
              "          docLink.innerHTML = docLinkHtml;\n",
              "          element.appendChild(docLink);\n",
              "        }\n",
              "      </script>\n",
              "    </div>\n",
              "  </div>\n",
              "  "
            ]
          },
          "metadata": {},
          "execution_count": 122
        }
      ]
    },
    {
      "cell_type": "code",
      "source": [
        "consensus_arguments_1_df = consensus_arguments_1.merge(df_comments, left_index = True, right_on = 'comment-id', how = 'left')"
      ],
      "metadata": {
        "id": "Ylcj3PdVokxg"
      },
      "execution_count": 123,
      "outputs": []
    },
    {
      "cell_type": "code",
      "source": [
        "consensus_arguments_1_df[[\"comment-id\", \"author-id\", \"a_agree\", \"a_disagree\", \"a_support_share\", \"b_agree\", \"b_disagree\", \"b_support_share\", \"comment-body\"]]"
      ],
      "metadata": {
        "id": "7ZTNZsQr1wSO",
        "colab": {
          "base_uri": "https://localhost:8080/",
          "height": 1000
        },
        "outputId": "f2613512-36a7-425f-fe19-26a717639cbf"
      },
      "execution_count": 124,
      "outputs": [
        {
          "output_type": "execute_result",
          "data": {
            "text/plain": [
              "    comment-id  author-id  a_agree  a_disagree  a_support_share  b_agree  \\\n",
              "84         154       3120       36          18         0.333333       32   \n",
              "33          46          0      222          35         0.727626      297   \n",
              "44          65          0      230          18         0.854839      276   \n",
              "22          31          0       86         114        -0.140000      145   \n",
              "52          78          0      131          91         0.180180      141   \n",
              "\n",
              "    b_disagree  b_support_share  \\\n",
              "84          16         0.333333   \n",
              "33          47         0.726744   \n",
              "44          22         0.852349   \n",
              "22         191        -0.136905   \n",
              "52          99         0.175000   \n",
              "\n",
              "                                         comment-body  \n",
              "84  我覺得UberX在計費上，晚上應該費用能提高，不能以低價只為了乘客，卻讓司機無力持續，造成車...  \n",
              "33                      我覺得類似共乘，但由開車的人向共乘者收費的概念，是可行的。  \n",
              "44                我覺得政府應該對運輸業設置公平的管制規則，而不是保護特定的既得利益者。  \n",
              "22    我覺得既然交通部已駁回 Uber 的行政訴願，台北市政府就應該註銷「台灣宇博數位」的公司登記。  \n",
              "52            我覺得搭乘他人的自用車，若是無從判斷此人是否通過測驗及健檢，感覺非常沒有保障。  "
            ],
            "text/html": [
              "\n",
              "  <div id=\"df-ca17458e-b32b-4ca5-afa3-03b285c922e8\">\n",
              "    <div class=\"colab-df-container\">\n",
              "      <div>\n",
              "<style scoped>\n",
              "    .dataframe tbody tr th:only-of-type {\n",
              "        vertical-align: middle;\n",
              "    }\n",
              "\n",
              "    .dataframe tbody tr th {\n",
              "        vertical-align: top;\n",
              "    }\n",
              "\n",
              "    .dataframe thead th {\n",
              "        text-align: right;\n",
              "    }\n",
              "</style>\n",
              "<table border=\"1\" class=\"dataframe\">\n",
              "  <thead>\n",
              "    <tr style=\"text-align: right;\">\n",
              "      <th></th>\n",
              "      <th>comment-id</th>\n",
              "      <th>author-id</th>\n",
              "      <th>a_agree</th>\n",
              "      <th>a_disagree</th>\n",
              "      <th>a_support_share</th>\n",
              "      <th>b_agree</th>\n",
              "      <th>b_disagree</th>\n",
              "      <th>b_support_share</th>\n",
              "      <th>comment-body</th>\n",
              "    </tr>\n",
              "  </thead>\n",
              "  <tbody>\n",
              "    <tr>\n",
              "      <th>84</th>\n",
              "      <td>154</td>\n",
              "      <td>3120</td>\n",
              "      <td>36</td>\n",
              "      <td>18</td>\n",
              "      <td>0.333333</td>\n",
              "      <td>32</td>\n",
              "      <td>16</td>\n",
              "      <td>0.333333</td>\n",
              "      <td>我覺得UberX在計費上，晚上應該費用能提高，不能以低價只為了乘客，卻讓司機無力持續，造成車...</td>\n",
              "    </tr>\n",
              "    <tr>\n",
              "      <th>33</th>\n",
              "      <td>46</td>\n",
              "      <td>0</td>\n",
              "      <td>222</td>\n",
              "      <td>35</td>\n",
              "      <td>0.727626</td>\n",
              "      <td>297</td>\n",
              "      <td>47</td>\n",
              "      <td>0.726744</td>\n",
              "      <td>我覺得類似共乘，但由開車的人向共乘者收費的概念，是可行的。</td>\n",
              "    </tr>\n",
              "    <tr>\n",
              "      <th>44</th>\n",
              "      <td>65</td>\n",
              "      <td>0</td>\n",
              "      <td>230</td>\n",
              "      <td>18</td>\n",
              "      <td>0.854839</td>\n",
              "      <td>276</td>\n",
              "      <td>22</td>\n",
              "      <td>0.852349</td>\n",
              "      <td>我覺得政府應該對運輸業設置公平的管制規則，而不是保護特定的既得利益者。</td>\n",
              "    </tr>\n",
              "    <tr>\n",
              "      <th>22</th>\n",
              "      <td>31</td>\n",
              "      <td>0</td>\n",
              "      <td>86</td>\n",
              "      <td>114</td>\n",
              "      <td>-0.140000</td>\n",
              "      <td>145</td>\n",
              "      <td>191</td>\n",
              "      <td>-0.136905</td>\n",
              "      <td>我覺得既然交通部已駁回 Uber 的行政訴願，台北市政府就應該註銷「台灣宇博數位」的公司登記。</td>\n",
              "    </tr>\n",
              "    <tr>\n",
              "      <th>52</th>\n",
              "      <td>78</td>\n",
              "      <td>0</td>\n",
              "      <td>131</td>\n",
              "      <td>91</td>\n",
              "      <td>0.180180</td>\n",
              "      <td>141</td>\n",
              "      <td>99</td>\n",
              "      <td>0.175000</td>\n",
              "      <td>我覺得搭乘他人的自用車，若是無從判斷此人是否通過測驗及健檢，感覺非常沒有保障。</td>\n",
              "    </tr>\n",
              "  </tbody>\n",
              "</table>\n",
              "</div>\n",
              "      <button class=\"colab-df-convert\" onclick=\"convertToInteractive('df-ca17458e-b32b-4ca5-afa3-03b285c922e8')\"\n",
              "              title=\"Convert this dataframe to an interactive table.\"\n",
              "              style=\"display:none;\">\n",
              "        \n",
              "  <svg xmlns=\"http://www.w3.org/2000/svg\" height=\"24px\"viewBox=\"0 0 24 24\"\n",
              "       width=\"24px\">\n",
              "    <path d=\"M0 0h24v24H0V0z\" fill=\"none\"/>\n",
              "    <path d=\"M18.56 5.44l.94 2.06.94-2.06 2.06-.94-2.06-.94-.94-2.06-.94 2.06-2.06.94zm-11 1L8.5 8.5l.94-2.06 2.06-.94-2.06-.94L8.5 2.5l-.94 2.06-2.06.94zm10 10l.94 2.06.94-2.06 2.06-.94-2.06-.94-.94-2.06-.94 2.06-2.06.94z\"/><path d=\"M17.41 7.96l-1.37-1.37c-.4-.4-.92-.59-1.43-.59-.52 0-1.04.2-1.43.59L10.3 9.45l-7.72 7.72c-.78.78-.78 2.05 0 2.83L4 21.41c.39.39.9.59 1.41.59.51 0 1.02-.2 1.41-.59l7.78-7.78 2.81-2.81c.8-.78.8-2.07 0-2.86zM5.41 20L4 18.59l7.72-7.72 1.47 1.35L5.41 20z\"/>\n",
              "  </svg>\n",
              "      </button>\n",
              "      \n",
              "  <style>\n",
              "    .colab-df-container {\n",
              "      display:flex;\n",
              "      flex-wrap:wrap;\n",
              "      gap: 12px;\n",
              "    }\n",
              "\n",
              "    .colab-df-convert {\n",
              "      background-color: #E8F0FE;\n",
              "      border: none;\n",
              "      border-radius: 50%;\n",
              "      cursor: pointer;\n",
              "      display: none;\n",
              "      fill: #1967D2;\n",
              "      height: 32px;\n",
              "      padding: 0 0 0 0;\n",
              "      width: 32px;\n",
              "    }\n",
              "\n",
              "    .colab-df-convert:hover {\n",
              "      background-color: #E2EBFA;\n",
              "      box-shadow: 0px 1px 2px rgba(60, 64, 67, 0.3), 0px 1px 3px 1px rgba(60, 64, 67, 0.15);\n",
              "      fill: #174EA6;\n",
              "    }\n",
              "\n",
              "    [theme=dark] .colab-df-convert {\n",
              "      background-color: #3B4455;\n",
              "      fill: #D2E3FC;\n",
              "    }\n",
              "\n",
              "    [theme=dark] .colab-df-convert:hover {\n",
              "      background-color: #434B5C;\n",
              "      box-shadow: 0px 1px 3px 1px rgba(0, 0, 0, 0.15);\n",
              "      filter: drop-shadow(0px 1px 2px rgba(0, 0, 0, 0.3));\n",
              "      fill: #FFFFFF;\n",
              "    }\n",
              "  </style>\n",
              "\n",
              "      <script>\n",
              "        const buttonEl =\n",
              "          document.querySelector('#df-ca17458e-b32b-4ca5-afa3-03b285c922e8 button.colab-df-convert');\n",
              "        buttonEl.style.display =\n",
              "          google.colab.kernel.accessAllowed ? 'block' : 'none';\n",
              "\n",
              "        async function convertToInteractive(key) {\n",
              "          const element = document.querySelector('#df-ca17458e-b32b-4ca5-afa3-03b285c922e8');\n",
              "          const dataTable =\n",
              "            await google.colab.kernel.invokeFunction('convertToInteractive',\n",
              "                                                     [key], {});\n",
              "          if (!dataTable) return;\n",
              "\n",
              "          const docLinkHtml = 'Like what you see? Visit the ' +\n",
              "            '<a target=\"_blank\" href=https://colab.research.google.com/notebooks/data_table.ipynb>data table notebook</a>'\n",
              "            + ' to learn more about interactive tables.';\n",
              "          element.innerHTML = '';\n",
              "          dataTable['output_type'] = 'display_data';\n",
              "          await google.colab.output.renderOutput(dataTable, element);\n",
              "          const docLink = document.createElement('div');\n",
              "          docLink.innerHTML = docLinkHtml;\n",
              "          element.appendChild(docLink);\n",
              "        }\n",
              "      </script>\n",
              "    </div>\n",
              "  </div>\n",
              "  "
            ]
          },
          "metadata": {},
          "execution_count": 124
        }
      ]
    }
  ]
}